{
 "cells": [
  {
   "cell_type": "code",
   "execution_count": 1,
   "metadata": {
    "collapsed": true
   },
   "outputs": [],
   "source": [
    "import pandas as pd\n",
    "import numpy as np"
   ]
  },
  {
   "cell_type": "code",
   "execution_count": 2,
   "metadata": {
    "collapsed": true
   },
   "outputs": [],
   "source": [
    "wSales = pd.read_csv(\"WeatherCleanNoEncoding.csv\",index_col=\"date\",parse_dates=True)"
   ]
  },
  {
   "cell_type": "code",
   "execution_count": 3,
   "metadata": {},
   "outputs": [
    {
     "data": {
      "text/html": [
       "<div>\n",
       "<style>\n",
       "    .dataframe thead tr:only-child th {\n",
       "        text-align: right;\n",
       "    }\n",
       "\n",
       "    .dataframe thead th {\n",
       "        text-align: left;\n",
       "    }\n",
       "\n",
       "    .dataframe tbody tr th {\n",
       "        vertical-align: top;\n",
       "    }\n",
       "</style>\n",
       "<table border=\"1\" class=\"dataframe\">\n",
       "  <thead>\n",
       "    <tr style=\"text-align: right;\">\n",
       "      <th></th>\n",
       "      <th>station_nbr</th>\n",
       "      <th>tmax</th>\n",
       "      <th>tmin</th>\n",
       "      <th>depart</th>\n",
       "      <th>dewpoint</th>\n",
       "      <th>wetbulb</th>\n",
       "      <th>heat</th>\n",
       "      <th>cool</th>\n",
       "      <th>sunrise</th>\n",
       "      <th>sunset</th>\n",
       "      <th>codesum</th>\n",
       "      <th>snowfall</th>\n",
       "      <th>preciptotal</th>\n",
       "      <th>stnpressure</th>\n",
       "      <th>sealevel</th>\n",
       "      <th>resultspeed</th>\n",
       "      <th>resultdir</th>\n",
       "      <th>avgspeed</th>\n",
       "    </tr>\n",
       "    <tr>\n",
       "      <th>date</th>\n",
       "      <th></th>\n",
       "      <th></th>\n",
       "      <th></th>\n",
       "      <th></th>\n",
       "      <th></th>\n",
       "      <th></th>\n",
       "      <th></th>\n",
       "      <th></th>\n",
       "      <th></th>\n",
       "      <th></th>\n",
       "      <th></th>\n",
       "      <th></th>\n",
       "      <th></th>\n",
       "      <th></th>\n",
       "      <th></th>\n",
       "      <th></th>\n",
       "      <th></th>\n",
       "      <th></th>\n",
       "    </tr>\n",
       "  </thead>\n",
       "  <tbody>\n",
       "    <tr>\n",
       "      <th>2012-01-01</th>\n",
       "      <td>1</td>\n",
       "      <td>52.0</td>\n",
       "      <td>31.0</td>\n",
       "      <td>NaN</td>\n",
       "      <td>36.0</td>\n",
       "      <td>40.0</td>\n",
       "      <td>23.0</td>\n",
       "      <td>0.0</td>\n",
       "      <td>NaN</td>\n",
       "      <td>NaN</td>\n",
       "      <td>RA FZFG BR</td>\n",
       "      <td>NaN</td>\n",
       "      <td>0.05</td>\n",
       "      <td>29.78</td>\n",
       "      <td>29.92</td>\n",
       "      <td>3.6</td>\n",
       "      <td>20.0</td>\n",
       "      <td>4.6</td>\n",
       "    </tr>\n",
       "    <tr>\n",
       "      <th>2012-01-01</th>\n",
       "      <td>2</td>\n",
       "      <td>48.0</td>\n",
       "      <td>33.0</td>\n",
       "      <td>16.0</td>\n",
       "      <td>37.0</td>\n",
       "      <td>39.0</td>\n",
       "      <td>24.0</td>\n",
       "      <td>0.0</td>\n",
       "      <td>716.0</td>\n",
       "      <td>1626.0</td>\n",
       "      <td>RA</td>\n",
       "      <td>0.0</td>\n",
       "      <td>0.07</td>\n",
       "      <td>28.82</td>\n",
       "      <td>29.91</td>\n",
       "      <td>9.1</td>\n",
       "      <td>23.0</td>\n",
       "      <td>11.3</td>\n",
       "    </tr>\n",
       "    <tr>\n",
       "      <th>2012-01-01</th>\n",
       "      <td>3</td>\n",
       "      <td>55.0</td>\n",
       "      <td>34.0</td>\n",
       "      <td>9.0</td>\n",
       "      <td>24.0</td>\n",
       "      <td>36.0</td>\n",
       "      <td>20.0</td>\n",
       "      <td>0.0</td>\n",
       "      <td>735.0</td>\n",
       "      <td>1720.0</td>\n",
       "      <td>NaN</td>\n",
       "      <td>0.0</td>\n",
       "      <td>0.00</td>\n",
       "      <td>29.77</td>\n",
       "      <td>30.47</td>\n",
       "      <td>9.9</td>\n",
       "      <td>31.0</td>\n",
       "      <td>10.0</td>\n",
       "    </tr>\n",
       "    <tr>\n",
       "      <th>2012-01-01</th>\n",
       "      <td>4</td>\n",
       "      <td>63.0</td>\n",
       "      <td>47.0</td>\n",
       "      <td>4.0</td>\n",
       "      <td>28.0</td>\n",
       "      <td>43.0</td>\n",
       "      <td>10.0</td>\n",
       "      <td>0.0</td>\n",
       "      <td>728.0</td>\n",
       "      <td>1742.0</td>\n",
       "      <td>NaN</td>\n",
       "      <td>0.0</td>\n",
       "      <td>0.00</td>\n",
       "      <td>29.79</td>\n",
       "      <td>30.48</td>\n",
       "      <td>8.0</td>\n",
       "      <td>35.0</td>\n",
       "      <td>8.2</td>\n",
       "    </tr>\n",
       "    <tr>\n",
       "      <th>2012-01-01</th>\n",
       "      <td>6</td>\n",
       "      <td>63.0</td>\n",
       "      <td>34.0</td>\n",
       "      <td>0.0</td>\n",
       "      <td>31.0</td>\n",
       "      <td>43.0</td>\n",
       "      <td>16.0</td>\n",
       "      <td>0.0</td>\n",
       "      <td>727.0</td>\n",
       "      <td>1742.0</td>\n",
       "      <td>NaN</td>\n",
       "      <td>0.0</td>\n",
       "      <td>0.00</td>\n",
       "      <td>29.95</td>\n",
       "      <td>30.47</td>\n",
       "      <td>14.0</td>\n",
       "      <td>36.0</td>\n",
       "      <td>13.8</td>\n",
       "    </tr>\n",
       "  </tbody>\n",
       "</table>\n",
       "</div>"
      ],
      "text/plain": [
       "            station_nbr  tmax  tmin  depart  dewpoint  wetbulb  heat  cool  \\\n",
       "date                                                                         \n",
       "2012-01-01            1  52.0  31.0     NaN      36.0     40.0  23.0   0.0   \n",
       "2012-01-01            2  48.0  33.0    16.0      37.0     39.0  24.0   0.0   \n",
       "2012-01-01            3  55.0  34.0     9.0      24.0     36.0  20.0   0.0   \n",
       "2012-01-01            4  63.0  47.0     4.0      28.0     43.0  10.0   0.0   \n",
       "2012-01-01            6  63.0  34.0     0.0      31.0     43.0  16.0   0.0   \n",
       "\n",
       "            sunrise  sunset     codesum  snowfall  preciptotal  stnpressure  \\\n",
       "date                                                                          \n",
       "2012-01-01      NaN     NaN  RA FZFG BR       NaN         0.05        29.78   \n",
       "2012-01-01    716.0  1626.0          RA       0.0         0.07        28.82   \n",
       "2012-01-01    735.0  1720.0         NaN       0.0         0.00        29.77   \n",
       "2012-01-01    728.0  1742.0         NaN       0.0         0.00        29.79   \n",
       "2012-01-01    727.0  1742.0         NaN       0.0         0.00        29.95   \n",
       "\n",
       "            sealevel  resultspeed  resultdir  avgspeed  \n",
       "date                                                    \n",
       "2012-01-01     29.92          3.6       20.0       4.6  \n",
       "2012-01-01     29.91          9.1       23.0      11.3  \n",
       "2012-01-01     30.47          9.9       31.0      10.0  \n",
       "2012-01-01     30.48          8.0       35.0       8.2  \n",
       "2012-01-01     30.47         14.0       36.0      13.8  "
      ]
     },
     "execution_count": 3,
     "metadata": {},
     "output_type": "execute_result"
    }
   ],
   "source": [
    "wSales.head()"
   ]
  },
  {
   "cell_type": "code",
   "execution_count": 4,
   "metadata": {},
   "outputs": [
    {
     "data": {
      "text/plain": [
       "(19695, 18)"
      ]
     },
     "execution_count": 4,
     "metadata": {},
     "output_type": "execute_result"
    }
   ],
   "source": [
    "wSales.shape"
   ]
  },
  {
   "cell_type": "code",
   "execution_count": 5,
   "metadata": {
    "collapsed": true
   },
   "outputs": [],
   "source": [
    "orgColumnsSize = wSales.shape[1]"
   ]
  },
  {
   "cell_type": "code",
   "execution_count": 6,
   "metadata": {
    "collapsed": true
   },
   "outputs": [],
   "source": [
    "wSales[\"codesum\"].fillna('', inplace =True)"
   ]
  },
  {
   "cell_type": "code",
   "execution_count": 7,
   "metadata": {
    "scrolled": true
   },
   "outputs": [
    {
     "data": {
      "text/plain": [
       "                           10229\n",
       "RA BR                       1476\n",
       "BR                          1431\n",
       "RA                          1281\n",
       "BR HZ                        400\n",
       "HZ                           365\n",
       "TSRA RA BR                   251\n",
       "SN BR                        244\n",
       "SN                           198\n",
       "TS                           189\n",
       "FG+ BR                       164\n",
       "RA BR HZ                     147\n",
       "RA DZ BR                     126\n",
       "TSRA                         121\n",
       "FG+ FG BR                    114\n",
       "RA BR VCTS                   111\n",
       "TSRA RA                       95\n",
       "RA FG+ BR                     86\n",
       "RA FG+ FG BR                  85\n",
       "RA FG BR                      80\n",
       "TS RA                         77\n",
       "FG BR                         76\n",
       "RA VCTS                       75\n",
       "TS TSRA RA BR                 73\n",
       "RA SN BR                      69\n",
       "TSRA BR                       68\n",
       "TSRA RA BR VCTS               67\n",
       "TS TSRA                       66\n",
       "VCTS                          57\n",
       "SN BR HZ                      57\n",
       "                           ...  \n",
       "FZRA SN FZFG BR UP             1\n",
       "DZ BR VCTS                     1\n",
       "TS TSRA RA FG+                 1\n",
       "TS TSRA RA SN PL BR            1\n",
       "FZRA FG+ FG FZFG BR UP         1\n",
       "FZRA SN FZFG BR UP BLSN        1\n",
       "RA FG BR HZ SQ                 1\n",
       "SG                             1\n",
       "SN FG+ FZFG HZ                 1\n",
       "DZ MIFG BR                     1\n",
       "RA FZRA SN UP                  1\n",
       "RA DZ SN HZ                    1\n",
       "RA FZRA SN FZFG BR UP          1\n",
       "RA SN PL FG+ BR                1\n",
       "TS TSRA GR RA BR HZ SQ         1\n",
       "DZ FG+ FG HZ                   1\n",
       "RA SN UP                       1\n",
       "RA DZ BR UP HZ                 1\n",
       "RA FG+ FG                      1\n",
       "TSRA RA FG BR HZ               1\n",
       "RA FZRA BR UP HZ               1\n",
       "TS TSRA RA SN FG BR            1\n",
       "RA DZ FG+ FG BR HZ             1\n",
       "TS TSRA BR SQ                  1\n",
       "TS TSRA DZ BR                  1\n",
       "TSRA FG+ BR HZ                 1\n",
       "DZ FZDZ SN BR                  1\n",
       "TSRA RA DZ                     1\n",
       "TS RA FG+ FG BR VCTS           1\n",
       "TS TSRA HZ                     1\n",
       "Name: codesum, Length: 449, dtype: int64"
      ]
     },
     "execution_count": 7,
     "metadata": {},
     "output_type": "execute_result"
    }
   ],
   "source": [
    "wSales[\"codesum\"].value_counts()"
   ]
  },
  {
   "cell_type": "code",
   "execution_count": 8,
   "metadata": {},
   "outputs": [
    {
     "data": {
      "text/plain": [
       "837"
      ]
     },
     "execution_count": 8,
     "metadata": {},
     "output_type": "execute_result"
    }
   ],
   "source": [
    "wSales[wSales.codesum.str.contains(\"\\+\") == True][\"codesum\"].value_counts().sum()"
   ]
  },
  {
   "cell_type": "code",
   "execution_count": 9,
   "metadata": {},
   "outputs": [
    {
     "data": {
      "text/plain": [
       "837"
      ]
     },
     "execution_count": 9,
     "metadata": {},
     "output_type": "execute_result"
    }
   ],
   "source": [
    "wSales.codesum.str.extract(\"([A-Z][A-Z])(\\+)\",expand=True)[0].value_counts().sum()"
   ]
  },
  {
   "cell_type": "code",
   "execution_count": 10,
   "metadata": {
    "scrolled": true
   },
   "outputs": [
    {
     "data": {
      "text/html": [
       "<div>\n",
       "<style>\n",
       "    .dataframe thead tr:only-child th {\n",
       "        text-align: right;\n",
       "    }\n",
       "\n",
       "    .dataframe thead th {\n",
       "        text-align: left;\n",
       "    }\n",
       "\n",
       "    .dataframe tbody tr th {\n",
       "        vertical-align: top;\n",
       "    }\n",
       "</style>\n",
       "<table border=\"1\" class=\"dataframe\">\n",
       "  <thead>\n",
       "    <tr style=\"text-align: right;\">\n",
       "      <th></th>\n",
       "      <th>0</th>\n",
       "      <th>1</th>\n",
       "    </tr>\n",
       "    <tr>\n",
       "      <th>date</th>\n",
       "      <th></th>\n",
       "      <th></th>\n",
       "    </tr>\n",
       "  </thead>\n",
       "  <tbody>\n",
       "    <tr>\n",
       "      <th>2012-01-01</th>\n",
       "      <td>FG</td>\n",
       "      <td>+</td>\n",
       "    </tr>\n",
       "    <tr>\n",
       "      <th>2012-01-01</th>\n",
       "      <td>FG</td>\n",
       "      <td>+</td>\n",
       "    </tr>\n",
       "    <tr>\n",
       "      <th>2012-01-01</th>\n",
       "      <td>FG</td>\n",
       "      <td>+</td>\n",
       "    </tr>\n",
       "    <tr>\n",
       "      <th>2012-01-01</th>\n",
       "      <td>FG</td>\n",
       "      <td>+</td>\n",
       "    </tr>\n",
       "    <tr>\n",
       "      <th>2012-01-06</th>\n",
       "      <td>FG</td>\n",
       "      <td>+</td>\n",
       "    </tr>\n",
       "    <tr>\n",
       "      <th>2012-01-06</th>\n",
       "      <td>FG</td>\n",
       "      <td>+</td>\n",
       "    </tr>\n",
       "    <tr>\n",
       "      <th>2012-01-06</th>\n",
       "      <td>FG</td>\n",
       "      <td>+</td>\n",
       "    </tr>\n",
       "    <tr>\n",
       "      <th>2012-01-07</th>\n",
       "      <td>FG</td>\n",
       "      <td>+</td>\n",
       "    </tr>\n",
       "    <tr>\n",
       "      <th>2012-01-07</th>\n",
       "      <td>FG</td>\n",
       "      <td>+</td>\n",
       "    </tr>\n",
       "    <tr>\n",
       "      <th>2012-01-07</th>\n",
       "      <td>FG</td>\n",
       "      <td>+</td>\n",
       "    </tr>\n",
       "    <tr>\n",
       "      <th>2012-01-07</th>\n",
       "      <td>FG</td>\n",
       "      <td>+</td>\n",
       "    </tr>\n",
       "    <tr>\n",
       "      <th>2012-01-07</th>\n",
       "      <td>FG</td>\n",
       "      <td>+</td>\n",
       "    </tr>\n",
       "    <tr>\n",
       "      <th>2012-01-07</th>\n",
       "      <td>FG</td>\n",
       "      <td>+</td>\n",
       "    </tr>\n",
       "    <tr>\n",
       "      <th>2012-01-07</th>\n",
       "      <td>FG</td>\n",
       "      <td>+</td>\n",
       "    </tr>\n",
       "    <tr>\n",
       "      <th>2012-01-08</th>\n",
       "      <td>FG</td>\n",
       "      <td>+</td>\n",
       "    </tr>\n",
       "    <tr>\n",
       "      <th>2012-01-09</th>\n",
       "      <td>FG</td>\n",
       "      <td>+</td>\n",
       "    </tr>\n",
       "    <tr>\n",
       "      <th>2012-01-12</th>\n",
       "      <td>FG</td>\n",
       "      <td>+</td>\n",
       "    </tr>\n",
       "    <tr>\n",
       "      <th>2012-01-13</th>\n",
       "      <td>FG</td>\n",
       "      <td>+</td>\n",
       "    </tr>\n",
       "    <tr>\n",
       "      <th>2012-01-13</th>\n",
       "      <td>FG</td>\n",
       "      <td>+</td>\n",
       "    </tr>\n",
       "    <tr>\n",
       "      <th>2012-01-17</th>\n",
       "      <td>FG</td>\n",
       "      <td>+</td>\n",
       "    </tr>\n",
       "    <tr>\n",
       "      <th>2012-01-20</th>\n",
       "      <td>FG</td>\n",
       "      <td>+</td>\n",
       "    </tr>\n",
       "    <tr>\n",
       "      <th>2012-01-20</th>\n",
       "      <td>FG</td>\n",
       "      <td>+</td>\n",
       "    </tr>\n",
       "    <tr>\n",
       "      <th>2012-01-20</th>\n",
       "      <td>FG</td>\n",
       "      <td>+</td>\n",
       "    </tr>\n",
       "    <tr>\n",
       "      <th>2012-01-20</th>\n",
       "      <td>FG</td>\n",
       "      <td>+</td>\n",
       "    </tr>\n",
       "    <tr>\n",
       "      <th>2012-01-21</th>\n",
       "      <td>FG</td>\n",
       "      <td>+</td>\n",
       "    </tr>\n",
       "    <tr>\n",
       "      <th>2012-01-22</th>\n",
       "      <td>FG</td>\n",
       "      <td>+</td>\n",
       "    </tr>\n",
       "    <tr>\n",
       "      <th>2012-01-22</th>\n",
       "      <td>FG</td>\n",
       "      <td>+</td>\n",
       "    </tr>\n",
       "    <tr>\n",
       "      <th>2012-01-23</th>\n",
       "      <td>FG</td>\n",
       "      <td>+</td>\n",
       "    </tr>\n",
       "    <tr>\n",
       "      <th>2012-01-23</th>\n",
       "      <td>FG</td>\n",
       "      <td>+</td>\n",
       "    </tr>\n",
       "    <tr>\n",
       "      <th>2012-01-23</th>\n",
       "      <td>FG</td>\n",
       "      <td>+</td>\n",
       "    </tr>\n",
       "    <tr>\n",
       "      <th>...</th>\n",
       "      <td>...</td>\n",
       "      <td>...</td>\n",
       "    </tr>\n",
       "    <tr>\n",
       "      <th>2014-09-19</th>\n",
       "      <td>FG</td>\n",
       "      <td>+</td>\n",
       "    </tr>\n",
       "    <tr>\n",
       "      <th>2014-09-21</th>\n",
       "      <td>FG</td>\n",
       "      <td>+</td>\n",
       "    </tr>\n",
       "    <tr>\n",
       "      <th>2014-09-21</th>\n",
       "      <td>FG</td>\n",
       "      <td>+</td>\n",
       "    </tr>\n",
       "    <tr>\n",
       "      <th>2014-09-21</th>\n",
       "      <td>FG</td>\n",
       "      <td>+</td>\n",
       "    </tr>\n",
       "    <tr>\n",
       "      <th>2014-09-24</th>\n",
       "      <td>FG</td>\n",
       "      <td>+</td>\n",
       "    </tr>\n",
       "    <tr>\n",
       "      <th>2014-09-25</th>\n",
       "      <td>FG</td>\n",
       "      <td>+</td>\n",
       "    </tr>\n",
       "    <tr>\n",
       "      <th>2014-09-26</th>\n",
       "      <td>FG</td>\n",
       "      <td>+</td>\n",
       "    </tr>\n",
       "    <tr>\n",
       "      <th>2014-09-26</th>\n",
       "      <td>FG</td>\n",
       "      <td>+</td>\n",
       "    </tr>\n",
       "    <tr>\n",
       "      <th>2014-09-28</th>\n",
       "      <td>FG</td>\n",
       "      <td>+</td>\n",
       "    </tr>\n",
       "    <tr>\n",
       "      <th>2014-09-30</th>\n",
       "      <td>FG</td>\n",
       "      <td>+</td>\n",
       "    </tr>\n",
       "    <tr>\n",
       "      <th>2014-10-01</th>\n",
       "      <td>FG</td>\n",
       "      <td>+</td>\n",
       "    </tr>\n",
       "    <tr>\n",
       "      <th>2014-10-02</th>\n",
       "      <td>FG</td>\n",
       "      <td>+</td>\n",
       "    </tr>\n",
       "    <tr>\n",
       "      <th>2014-10-03</th>\n",
       "      <td>FG</td>\n",
       "      <td>+</td>\n",
       "    </tr>\n",
       "    <tr>\n",
       "      <th>2014-10-03</th>\n",
       "      <td>FG</td>\n",
       "      <td>+</td>\n",
       "    </tr>\n",
       "    <tr>\n",
       "      <th>2014-10-04</th>\n",
       "      <td>FG</td>\n",
       "      <td>+</td>\n",
       "    </tr>\n",
       "    <tr>\n",
       "      <th>2014-10-07</th>\n",
       "      <td>FG</td>\n",
       "      <td>+</td>\n",
       "    </tr>\n",
       "    <tr>\n",
       "      <th>2014-10-08</th>\n",
       "      <td>FG</td>\n",
       "      <td>+</td>\n",
       "    </tr>\n",
       "    <tr>\n",
       "      <th>2014-10-10</th>\n",
       "      <td>FG</td>\n",
       "      <td>+</td>\n",
       "    </tr>\n",
       "    <tr>\n",
       "      <th>2014-10-12</th>\n",
       "      <td>FG</td>\n",
       "      <td>+</td>\n",
       "    </tr>\n",
       "    <tr>\n",
       "      <th>2014-10-12</th>\n",
       "      <td>FG</td>\n",
       "      <td>+</td>\n",
       "    </tr>\n",
       "    <tr>\n",
       "      <th>2014-10-13</th>\n",
       "      <td>FG</td>\n",
       "      <td>+</td>\n",
       "    </tr>\n",
       "    <tr>\n",
       "      <th>2014-10-18</th>\n",
       "      <td>FG</td>\n",
       "      <td>+</td>\n",
       "    </tr>\n",
       "    <tr>\n",
       "      <th>2014-10-21</th>\n",
       "      <td>FG</td>\n",
       "      <td>+</td>\n",
       "    </tr>\n",
       "    <tr>\n",
       "      <th>2014-10-22</th>\n",
       "      <td>FG</td>\n",
       "      <td>+</td>\n",
       "    </tr>\n",
       "    <tr>\n",
       "      <th>2014-10-28</th>\n",
       "      <td>FG</td>\n",
       "      <td>+</td>\n",
       "    </tr>\n",
       "    <tr>\n",
       "      <th>2014-10-28</th>\n",
       "      <td>FG</td>\n",
       "      <td>+</td>\n",
       "    </tr>\n",
       "    <tr>\n",
       "      <th>2014-10-29</th>\n",
       "      <td>FG</td>\n",
       "      <td>+</td>\n",
       "    </tr>\n",
       "    <tr>\n",
       "      <th>2014-10-29</th>\n",
       "      <td>FG</td>\n",
       "      <td>+</td>\n",
       "    </tr>\n",
       "    <tr>\n",
       "      <th>2014-10-29</th>\n",
       "      <td>FG</td>\n",
       "      <td>+</td>\n",
       "    </tr>\n",
       "    <tr>\n",
       "      <th>2014-10-29</th>\n",
       "      <td>FG</td>\n",
       "      <td>+</td>\n",
       "    </tr>\n",
       "  </tbody>\n",
       "</table>\n",
       "<p>837 rows × 2 columns</p>\n",
       "</div>"
      ],
      "text/plain": [
       "             0  1\n",
       "date             \n",
       "2012-01-01  FG  +\n",
       "2012-01-01  FG  +\n",
       "2012-01-01  FG  +\n",
       "2012-01-01  FG  +\n",
       "2012-01-06  FG  +\n",
       "2012-01-06  FG  +\n",
       "2012-01-06  FG  +\n",
       "2012-01-07  FG  +\n",
       "2012-01-07  FG  +\n",
       "2012-01-07  FG  +\n",
       "2012-01-07  FG  +\n",
       "2012-01-07  FG  +\n",
       "2012-01-07  FG  +\n",
       "2012-01-07  FG  +\n",
       "2012-01-08  FG  +\n",
       "2012-01-09  FG  +\n",
       "2012-01-12  FG  +\n",
       "2012-01-13  FG  +\n",
       "2012-01-13  FG  +\n",
       "2012-01-17  FG  +\n",
       "2012-01-20  FG  +\n",
       "2012-01-20  FG  +\n",
       "2012-01-20  FG  +\n",
       "2012-01-20  FG  +\n",
       "2012-01-21  FG  +\n",
       "2012-01-22  FG  +\n",
       "2012-01-22  FG  +\n",
       "2012-01-23  FG  +\n",
       "2012-01-23  FG  +\n",
       "2012-01-23  FG  +\n",
       "...         .. ..\n",
       "2014-09-19  FG  +\n",
       "2014-09-21  FG  +\n",
       "2014-09-21  FG  +\n",
       "2014-09-21  FG  +\n",
       "2014-09-24  FG  +\n",
       "2014-09-25  FG  +\n",
       "2014-09-26  FG  +\n",
       "2014-09-26  FG  +\n",
       "2014-09-28  FG  +\n",
       "2014-09-30  FG  +\n",
       "2014-10-01  FG  +\n",
       "2014-10-02  FG  +\n",
       "2014-10-03  FG  +\n",
       "2014-10-03  FG  +\n",
       "2014-10-04  FG  +\n",
       "2014-10-07  FG  +\n",
       "2014-10-08  FG  +\n",
       "2014-10-10  FG  +\n",
       "2014-10-12  FG  +\n",
       "2014-10-12  FG  +\n",
       "2014-10-13  FG  +\n",
       "2014-10-18  FG  +\n",
       "2014-10-21  FG  +\n",
       "2014-10-22  FG  +\n",
       "2014-10-28  FG  +\n",
       "2014-10-28  FG  +\n",
       "2014-10-29  FG  +\n",
       "2014-10-29  FG  +\n",
       "2014-10-29  FG  +\n",
       "2014-10-29  FG  +\n",
       "\n",
       "[837 rows x 2 columns]"
      ]
     },
     "execution_count": 10,
     "metadata": {},
     "output_type": "execute_result"
    }
   ],
   "source": [
    "check = wSales.codesum.str.extract(\"([A-Z][A-Z])(\\+)\",expand=True)\n",
    "check[check[0].isnull() == False]"
   ]
  },
  {
   "cell_type": "code",
   "execution_count": 11,
   "metadata": {},
   "outputs": [
    {
     "data": {
      "text/plain": [
       "FG    837\n",
       "Name: 0, dtype: int64"
      ]
     },
     "execution_count": 11,
     "metadata": {},
     "output_type": "execute_result"
    }
   ],
   "source": [
    "check[0].value_counts()"
   ]
  },
  {
   "cell_type": "code",
   "execution_count": 12,
   "metadata": {},
   "outputs": [
    {
     "data": {
      "text/plain": [
       "0"
      ]
     },
     "execution_count": 12,
     "metadata": {},
     "output_type": "execute_result"
    }
   ],
   "source": [
    "wSales[wSales.codesum.str.contains(\"\\-\") == True][\"codesum\"].value_counts().sum()"
   ]
  },
  {
   "cell_type": "code",
   "execution_count": 13,
   "metadata": {},
   "outputs": [
    {
     "data": {
      "text/plain": [
       "0"
      ]
     },
     "execution_count": 13,
     "metadata": {},
     "output_type": "execute_result"
    }
   ],
   "source": [
    "wSales[wSales.codesum.str.contains(\"\\+FC\") == True][\"codesum\"].value_counts().sum()"
   ]
  },
  {
   "cell_type": "markdown",
   "metadata": {},
   "source": [
    "<b>Conclusion:</b><br>\n",
    "All codes that have '+' are 'FG+'.<br>\n",
    "No '-' or '+FC' entries.\n"
   ]
  },
  {
   "cell_type": "code",
   "execution_count": 14,
   "metadata": {
    "collapsed": true
   },
   "outputs": [],
   "source": [
    "# Source: Codesum Encoding Map.xlsx\n",
    "\n",
    "wSales[\"funnel_cloud\"] = np.where(wSales[\"codesum\"].str.contains(\"FC\"),1,0)\n",
    "wSales[\"thunderstorm\"] = np.where(wSales[\"codesum\"].str.contains(\"TS\"),1,0)\n",
    "wSales[\"hail\"] = np.where(wSales[\"codesum\"].str.contains(\"GR\"),1,0)\n",
    "wSales[\"rain\"] = np.where(wSales[\"codesum\"].str.contains(\"RA\"),1,0)\n",
    "wSales[\"drizzle\"] = np.where(wSales[\"codesum\"].str.contains(\"DZ\"),1,0)\n",
    "wSales[\"snow\"] = np.where(wSales[\"codesum\"].str.contains(\"SN\"),1,0)\n",
    "wSales[\"snow_grains\"] = np.where(wSales[\"codesum\"].str.contains(\"SG\"),1,0)\n",
    "wSales[\"small_hail\"] = np.where(wSales[\"codesum\"].str.contains(\"GS\"),1,0)\n",
    "wSales[\"ice_pellets\"] = np.where(wSales[\"codesum\"].str.contains(\"PL\"),1,0)\n",
    "wSales[\"ice_crystals\"] = np.where(wSales[\"codesum\"].str.contains(\"IC\"),1,0)\n",
    "wSales[\"heavy_fog\"] = np.where(wSales[\"codesum\"].str.contains(\"FG\\+\"),1,0)\n",
    "wSales[\"fog\"] = np.where(wSales[\"codesum\"].str.contains(\"FG\"),1,0)\n",
    "wSales[\"mist\"] = np.where(wSales[\"codesum\"].str.contains(\"BR\"),1,0)\n",
    "wSales[\"unknown_precip\"] = np.where(wSales[\"codesum\"].str.contains(\"UP\"),1,0)\n",
    "wSales[\"haze\"] = np.where(wSales[\"codesum\"].str.contains(\"HZ\"),1,0)\n",
    "wSales[\"smoke\"] = np.where(wSales[\"codesum\"].str.contains(\"FU\"),1,0)\n",
    "wSales[\"volcanic_ash\"] = np.where(wSales[\"codesum\"].str.contains(\"VA\"),1,0)\n",
    "wSales[\"widespread_dust\"] = np.where(wSales[\"codesum\"].str.contains(\"DU\"),1,0)\n",
    "wSales[\"duststorm\"] = np.where(wSales[\"codesum\"].str.contains(\"DS\"),1,0)\n",
    "wSales[\"sand_dust_whirls\"] = np.where(wSales[\"codesum\"].str.contains(\"PO\"),1,0)\n",
    "wSales[\"sand\"] = np.where(wSales[\"codesum\"].str.contains(\"SA\"),1,0)\n",
    "wSales[\"sandstorm\"] = np.where(wSales[\"codesum\"].str.contains(\"SS\"),1,0)\n",
    "wSales[\"spray\"] = np.where(wSales[\"codesum\"].str.contains(\"PY\"),1,0)\n",
    "wSales[\"squall\"] = np.where(wSales[\"codesum\"].str.contains(\"SQ\"),1,0)\n",
    "wSales[\"low_drifting\"] = np.where(wSales[\"codesum\"].str.contains(\"DR\"),1,0)\n",
    "wSales[\"shower\"] = np.where(wSales[\"codesum\"].str.contains(\"SH\"),1,0)\n",
    "wSales[\"freezing\"] = np.where(wSales[\"codesum\"].str.contains(\"FZ\"),1,0)\n",
    "wSales[\"shallow\"] = np.where(wSales[\"codesum\"].str.contains(\"MI\"),1,0)\n",
    "wSales[\"partial\"] = np.where(wSales[\"codesum\"].str.contains(\"PR\"),1,0)\n",
    "wSales[\"patches\"] = np.where(wSales[\"codesum\"].str.contains(\"BC\"),1,0)\n",
    "wSales[\"blowing\"] = np.where(wSales[\"codesum\"].str.contains(\"BL\"),1,0)\n",
    "wSales[\"vicinity\"] = np.where(wSales[\"codesum\"].str.contains(\"VC\"),1,0)"
   ]
  },
  {
   "cell_type": "code",
   "execution_count": 15,
   "metadata": {},
   "outputs": [
    {
     "data": {
      "text/plain": [
       "1307"
      ]
     },
     "execution_count": 15,
     "metadata": {},
     "output_type": "execute_result"
    }
   ],
   "source": [
    "wSales.fog.sum()"
   ]
  },
  {
   "cell_type": "code",
   "execution_count": 16,
   "metadata": {},
   "outputs": [
    {
     "data": {
      "text/plain": [
       "837"
      ]
     },
     "execution_count": 16,
     "metadata": {},
     "output_type": "execute_result"
    }
   ],
   "source": [
    "wSales.heavy_fog.sum()"
   ]
  },
  {
   "cell_type": "code",
   "execution_count": 17,
   "metadata": {},
   "outputs": [
    {
     "data": {
      "text/plain": [
       "1307"
      ]
     },
     "execution_count": 17,
     "metadata": {},
     "output_type": "execute_result"
    }
   ],
   "source": [
    "wSales.codesum[wSales.codesum.str.contains(\"FG\")].value_counts().sum()"
   ]
  },
  {
   "cell_type": "code",
   "execution_count": 18,
   "metadata": {},
   "outputs": [
    {
     "data": {
      "text/plain": [
       "837"
      ]
     },
     "execution_count": 18,
     "metadata": {},
     "output_type": "execute_result"
    }
   ],
   "source": [
    "wSales.codesum[wSales.codesum.str.contains(\"FG\\+\")].value_counts().sum()"
   ]
  },
  {
   "cell_type": "code",
   "execution_count": 19,
   "metadata": {},
   "outputs": [
    {
     "data": {
      "text/plain": [
       "2144"
      ]
     },
     "execution_count": 19,
     "metadata": {},
     "output_type": "execute_result"
    }
   ],
   "source": [
    "1307+837"
   ]
  },
  {
   "cell_type": "code",
   "execution_count": 20,
   "metadata": {
    "collapsed": true
   },
   "outputs": [],
   "source": [
    "# Encode heavy fog with '2'\n",
    "wSales.fog += wSales.heavy_fog"
   ]
  },
  {
   "cell_type": "code",
   "execution_count": 21,
   "metadata": {},
   "outputs": [
    {
     "data": {
      "text/plain": [
       "2144"
      ]
     },
     "execution_count": 21,
     "metadata": {},
     "output_type": "execute_result"
    }
   ],
   "source": [
    "wSales.fog.sum()"
   ]
  },
  {
   "cell_type": "code",
   "execution_count": 22,
   "metadata": {},
   "outputs": [
    {
     "data": {
      "text/plain": [
       "2    837\n",
       "Name: fog, dtype: int64"
      ]
     },
     "execution_count": 22,
     "metadata": {},
     "output_type": "execute_result"
    }
   ],
   "source": [
    "wSales.fog[wSales.codesum.str.contains(\"FG\\+\")].value_counts()"
   ]
  },
  {
   "cell_type": "code",
   "execution_count": 23,
   "metadata": {
    "collapsed": true
   },
   "outputs": [],
   "source": [
    "wSales.drop(\"heavy_fog\",axis=1,inplace=True)"
   ]
  },
  {
   "cell_type": "code",
   "execution_count": 24,
   "metadata": {},
   "outputs": [
    {
     "data": {
      "text/plain": [
       "(125, 49)"
      ]
     },
     "execution_count": 24,
     "metadata": {},
     "output_type": "execute_result"
    }
   ],
   "source": [
    "wSales[wSales[\"codesum\"].str.contains(\"FZRA\")].shape"
   ]
  },
  {
   "cell_type": "code",
   "execution_count": 25,
   "metadata": {},
   "outputs": [
    {
     "data": {
      "text/plain": [
       "125"
      ]
     },
     "execution_count": 25,
     "metadata": {},
     "output_type": "execute_result"
    }
   ],
   "source": [
    "wSales[wSales[\"codesum\"].str.contains(\"FZRA\")].rain.sum()"
   ]
  },
  {
   "cell_type": "code",
   "execution_count": 26,
   "metadata": {},
   "outputs": [
    {
     "data": {
      "text/plain": [
       "125"
      ]
     },
     "execution_count": 26,
     "metadata": {},
     "output_type": "execute_result"
    }
   ],
   "source": [
    "wSales[wSales[\"codesum\"].str.contains(\"FZRA\")].freezing.sum()"
   ]
  },
  {
   "cell_type": "code",
   "execution_count": 27,
   "metadata": {},
   "outputs": [
    {
     "data": {
      "text/plain": [
       "codesum     RA FZRA FG+ FG BR UPFZRA FG+ FZFG UPFZRA SN BR...\n",
       "freezing                                                  125\n",
       "rain                                                      125\n",
       "dtype: object"
      ]
     },
     "execution_count": 27,
     "metadata": {},
     "output_type": "execute_result"
    }
   ],
   "source": [
    "wSales[wSales[\"codesum\"].str.contains(\"FZRA\")][[\"codesum\",\"freezing\",\"rain\"]].sum()"
   ]
  },
  {
   "cell_type": "code",
   "execution_count": 28,
   "metadata": {},
   "outputs": [
    {
     "data": {
      "text/plain": [
       "(6359, 49)"
      ]
     },
     "execution_count": 28,
     "metadata": {},
     "output_type": "execute_result"
    }
   ],
   "source": [
    "wSales[wSales[\"codesum\"].str.contains(\"BR\") == True].shape"
   ]
  },
  {
   "cell_type": "code",
   "execution_count": 29,
   "metadata": {},
   "outputs": [
    {
     "data": {
      "text/plain": [
       "6359"
      ]
     },
     "execution_count": 29,
     "metadata": {},
     "output_type": "execute_result"
    }
   ],
   "source": [
    "wSales[\"mist\"].sum()"
   ]
  },
  {
   "cell_type": "code",
   "execution_count": 30,
   "metadata": {},
   "outputs": [
    {
     "data": {
      "text/html": [
       "<div>\n",
       "<style>\n",
       "    .dataframe thead tr:only-child th {\n",
       "        text-align: right;\n",
       "    }\n",
       "\n",
       "    .dataframe thead th {\n",
       "        text-align: left;\n",
       "    }\n",
       "\n",
       "    .dataframe tbody tr th {\n",
       "        vertical-align: top;\n",
       "    }\n",
       "</style>\n",
       "<table border=\"1\" class=\"dataframe\">\n",
       "  <thead>\n",
       "    <tr style=\"text-align: right;\">\n",
       "      <th></th>\n",
       "      <th>funnel_cloud</th>\n",
       "      <th>thunderstorm</th>\n",
       "      <th>hail</th>\n",
       "      <th>rain</th>\n",
       "      <th>drizzle</th>\n",
       "      <th>snow</th>\n",
       "      <th>snow_grains</th>\n",
       "      <th>small_hail</th>\n",
       "      <th>ice_pellets</th>\n",
       "      <th>ice_crystals</th>\n",
       "      <th>...</th>\n",
       "      <th>spray</th>\n",
       "      <th>squall</th>\n",
       "      <th>low_drifting</th>\n",
       "      <th>shower</th>\n",
       "      <th>freezing</th>\n",
       "      <th>shallow</th>\n",
       "      <th>partial</th>\n",
       "      <th>patches</th>\n",
       "      <th>blowing</th>\n",
       "      <th>vicinity</th>\n",
       "    </tr>\n",
       "    <tr>\n",
       "      <th>date</th>\n",
       "      <th></th>\n",
       "      <th></th>\n",
       "      <th></th>\n",
       "      <th></th>\n",
       "      <th></th>\n",
       "      <th></th>\n",
       "      <th></th>\n",
       "      <th></th>\n",
       "      <th></th>\n",
       "      <th></th>\n",
       "      <th></th>\n",
       "      <th></th>\n",
       "      <th></th>\n",
       "      <th></th>\n",
       "      <th></th>\n",
       "      <th></th>\n",
       "      <th></th>\n",
       "      <th></th>\n",
       "      <th></th>\n",
       "      <th></th>\n",
       "      <th></th>\n",
       "    </tr>\n",
       "  </thead>\n",
       "  <tbody>\n",
       "    <tr>\n",
       "      <th>2012-01-01</th>\n",
       "      <td>0</td>\n",
       "      <td>0</td>\n",
       "      <td>0</td>\n",
       "      <td>1</td>\n",
       "      <td>0</td>\n",
       "      <td>0</td>\n",
       "      <td>0</td>\n",
       "      <td>0</td>\n",
       "      <td>0</td>\n",
       "      <td>0</td>\n",
       "      <td>...</td>\n",
       "      <td>0</td>\n",
       "      <td>0</td>\n",
       "      <td>0</td>\n",
       "      <td>0</td>\n",
       "      <td>1</td>\n",
       "      <td>0</td>\n",
       "      <td>0</td>\n",
       "      <td>0</td>\n",
       "      <td>0</td>\n",
       "      <td>0</td>\n",
       "    </tr>\n",
       "    <tr>\n",
       "      <th>2012-01-01</th>\n",
       "      <td>0</td>\n",
       "      <td>0</td>\n",
       "      <td>0</td>\n",
       "      <td>1</td>\n",
       "      <td>0</td>\n",
       "      <td>0</td>\n",
       "      <td>0</td>\n",
       "      <td>0</td>\n",
       "      <td>0</td>\n",
       "      <td>0</td>\n",
       "      <td>...</td>\n",
       "      <td>0</td>\n",
       "      <td>0</td>\n",
       "      <td>0</td>\n",
       "      <td>0</td>\n",
       "      <td>0</td>\n",
       "      <td>0</td>\n",
       "      <td>0</td>\n",
       "      <td>0</td>\n",
       "      <td>0</td>\n",
       "      <td>0</td>\n",
       "    </tr>\n",
       "    <tr>\n",
       "      <th>2012-01-01</th>\n",
       "      <td>0</td>\n",
       "      <td>0</td>\n",
       "      <td>0</td>\n",
       "      <td>0</td>\n",
       "      <td>0</td>\n",
       "      <td>0</td>\n",
       "      <td>0</td>\n",
       "      <td>0</td>\n",
       "      <td>0</td>\n",
       "      <td>0</td>\n",
       "      <td>...</td>\n",
       "      <td>0</td>\n",
       "      <td>0</td>\n",
       "      <td>0</td>\n",
       "      <td>0</td>\n",
       "      <td>0</td>\n",
       "      <td>0</td>\n",
       "      <td>0</td>\n",
       "      <td>0</td>\n",
       "      <td>0</td>\n",
       "      <td>0</td>\n",
       "    </tr>\n",
       "    <tr>\n",
       "      <th>2012-01-01</th>\n",
       "      <td>0</td>\n",
       "      <td>0</td>\n",
       "      <td>0</td>\n",
       "      <td>0</td>\n",
       "      <td>0</td>\n",
       "      <td>0</td>\n",
       "      <td>0</td>\n",
       "      <td>0</td>\n",
       "      <td>0</td>\n",
       "      <td>0</td>\n",
       "      <td>...</td>\n",
       "      <td>0</td>\n",
       "      <td>0</td>\n",
       "      <td>0</td>\n",
       "      <td>0</td>\n",
       "      <td>0</td>\n",
       "      <td>0</td>\n",
       "      <td>0</td>\n",
       "      <td>0</td>\n",
       "      <td>0</td>\n",
       "      <td>0</td>\n",
       "    </tr>\n",
       "    <tr>\n",
       "      <th>2012-01-01</th>\n",
       "      <td>0</td>\n",
       "      <td>0</td>\n",
       "      <td>0</td>\n",
       "      <td>0</td>\n",
       "      <td>0</td>\n",
       "      <td>0</td>\n",
       "      <td>0</td>\n",
       "      <td>0</td>\n",
       "      <td>0</td>\n",
       "      <td>0</td>\n",
       "      <td>...</td>\n",
       "      <td>0</td>\n",
       "      <td>0</td>\n",
       "      <td>0</td>\n",
       "      <td>0</td>\n",
       "      <td>0</td>\n",
       "      <td>0</td>\n",
       "      <td>0</td>\n",
       "      <td>0</td>\n",
       "      <td>0</td>\n",
       "      <td>0</td>\n",
       "    </tr>\n",
       "  </tbody>\n",
       "</table>\n",
       "<p>5 rows × 31 columns</p>\n",
       "</div>"
      ],
      "text/plain": [
       "            funnel_cloud  thunderstorm  hail  rain  drizzle  snow  \\\n",
       "date                                                                \n",
       "2012-01-01             0             0     0     1        0     0   \n",
       "2012-01-01             0             0     0     1        0     0   \n",
       "2012-01-01             0             0     0     0        0     0   \n",
       "2012-01-01             0             0     0     0        0     0   \n",
       "2012-01-01             0             0     0     0        0     0   \n",
       "\n",
       "            snow_grains  small_hail  ice_pellets  ice_crystals    ...     \\\n",
       "date                                                              ...      \n",
       "2012-01-01            0           0            0             0    ...      \n",
       "2012-01-01            0           0            0             0    ...      \n",
       "2012-01-01            0           0            0             0    ...      \n",
       "2012-01-01            0           0            0             0    ...      \n",
       "2012-01-01            0           0            0             0    ...      \n",
       "\n",
       "            spray  squall  low_drifting  shower  freezing  shallow  partial  \\\n",
       "date                                                                          \n",
       "2012-01-01      0       0             0       0         1        0        0   \n",
       "2012-01-01      0       0             0       0         0        0        0   \n",
       "2012-01-01      0       0             0       0         0        0        0   \n",
       "2012-01-01      0       0             0       0         0        0        0   \n",
       "2012-01-01      0       0             0       0         0        0        0   \n",
       "\n",
       "            patches  blowing  vicinity  \n",
       "date                                    \n",
       "2012-01-01        0        0         0  \n",
       "2012-01-01        0        0         0  \n",
       "2012-01-01        0        0         0  \n",
       "2012-01-01        0        0         0  \n",
       "2012-01-01        0        0         0  \n",
       "\n",
       "[5 rows x 31 columns]"
      ]
     },
     "execution_count": 30,
     "metadata": {},
     "output_type": "execute_result"
    }
   ],
   "source": [
    "wSales.iloc[:,orgColumnsSize:].head()"
   ]
  },
  {
   "cell_type": "code",
   "execution_count": 31,
   "metadata": {},
   "outputs": [
    {
     "data": {
      "text/plain": [
       "funnel_cloud           0\n",
       "thunderstorm        1888\n",
       "hail                   3\n",
       "rain                5325\n",
       "drizzle              497\n",
       "snow                1008\n",
       "snow_grains            1\n",
       "small_hail             5\n",
       "ice_pellets           20\n",
       "ice_crystals           0\n",
       "fog                 2144\n",
       "mist                6359\n",
       "unknown_precip       230\n",
       "haze                1482\n",
       "smoke                 33\n",
       "volcanic_ash           0\n",
       "widespread_dust       28\n",
       "duststorm              0\n",
       "sand_dust_whirls       0\n",
       "sand                   0\n",
       "sandstorm              9\n",
       "spray                  0\n",
       "squall                14\n",
       "low_drifting           0\n",
       "shower                 0\n",
       "freezing             332\n",
       "shallow               52\n",
       "partial                1\n",
       "patches              111\n",
       "blowing               59\n",
       "vicinity             571\n",
       "dtype: int64"
      ]
     },
     "execution_count": 31,
     "metadata": {},
     "output_type": "execute_result"
    }
   ],
   "source": [
    "wSalesSum = wSales.iloc[:,orgColumnsSize:].sum()\n",
    "wSalesSum"
   ]
  },
  {
   "cell_type": "code",
   "execution_count": 32,
   "metadata": {},
   "outputs": [
    {
     "data": {
      "text/plain": [
       "funnel_cloud        0\n",
       "ice_crystals        0\n",
       "volcanic_ash        0\n",
       "duststorm           0\n",
       "sand_dust_whirls    0\n",
       "sand                0\n",
       "spray               0\n",
       "low_drifting        0\n",
       "shower              0\n",
       "dtype: int64"
      ]
     },
     "execution_count": 32,
     "metadata": {},
     "output_type": "execute_result"
    }
   ],
   "source": [
    "blankCodes = wSalesSum[wSalesSum == 0]\n",
    "blankCodes"
   ]
  },
  {
   "cell_type": "code",
   "execution_count": 33,
   "metadata": {},
   "outputs": [
    {
     "data": {
      "text/plain": [
       "array(['funnel_cloud', 'ice_crystals', 'volcanic_ash', 'duststorm',\n",
       "       'sand_dust_whirls', 'sand', 'spray', 'low_drifting', 'shower'], dtype=object)"
      ]
     },
     "execution_count": 33,
     "metadata": {},
     "output_type": "execute_result"
    }
   ],
   "source": [
    "blankCodes.index.values"
   ]
  },
  {
   "cell_type": "code",
   "execution_count": 34,
   "metadata": {},
   "outputs": [
    {
     "data": {
      "text/plain": [
       "(19695, 31)"
      ]
     },
     "execution_count": 34,
     "metadata": {},
     "output_type": "execute_result"
    }
   ],
   "source": [
    "wSales.iloc[:,orgColumnsSize:].shape"
   ]
  },
  {
   "cell_type": "code",
   "execution_count": 35,
   "metadata": {},
   "outputs": [
    {
     "data": {
      "text/plain": [
       "(19695, 22)"
      ]
     },
     "execution_count": 35,
     "metadata": {},
     "output_type": "execute_result"
    }
   ],
   "source": [
    "wSales.drop(blankCodes.index.values,axis=1).iloc[:,orgColumnsSize:].shape"
   ]
  },
  {
   "cell_type": "code",
   "execution_count": 36,
   "metadata": {},
   "outputs": [
    {
     "data": {
      "text/plain": [
       "9"
      ]
     },
     "execution_count": 36,
     "metadata": {},
     "output_type": "execute_result"
    }
   ],
   "source": [
    "wSales.iloc[:,orgColumnsSize:].shape[1] - wSales.drop(blankCodes.index.values,axis=1).iloc[:,orgColumnsSize:].shape[1]"
   ]
  },
  {
   "cell_type": "code",
   "execution_count": 37,
   "metadata": {},
   "outputs": [
    {
     "data": {
      "text/plain": [
       "9"
      ]
     },
     "execution_count": 37,
     "metadata": {},
     "output_type": "execute_result"
    }
   ],
   "source": [
    "len(blankCodes)"
   ]
  },
  {
   "cell_type": "code",
   "execution_count": 38,
   "metadata": {
    "collapsed": true
   },
   "outputs": [],
   "source": [
    "wSales.drop(blankCodes.index.values,axis=1,inplace=True)"
   ]
  },
  {
   "cell_type": "code",
   "execution_count": 39,
   "metadata": {},
   "outputs": [
    {
     "data": {
      "text/plain": [
       "(19695, 22)"
      ]
     },
     "execution_count": 39,
     "metadata": {},
     "output_type": "execute_result"
    }
   ],
   "source": [
    "wSales.iloc[:,orgColumnsSize:].shape"
   ]
  },
  {
   "cell_type": "code",
   "execution_count": 40,
   "metadata": {},
   "outputs": [
    {
     "data": {
      "text/html": [
       "<div>\n",
       "<style>\n",
       "    .dataframe thead tr:only-child th {\n",
       "        text-align: right;\n",
       "    }\n",
       "\n",
       "    .dataframe thead th {\n",
       "        text-align: left;\n",
       "    }\n",
       "\n",
       "    .dataframe tbody tr th {\n",
       "        vertical-align: top;\n",
       "    }\n",
       "</style>\n",
       "<table border=\"1\" class=\"dataframe\">\n",
       "  <thead>\n",
       "    <tr style=\"text-align: right;\">\n",
       "      <th></th>\n",
       "      <th>station_nbr</th>\n",
       "      <th>tmax</th>\n",
       "      <th>tmin</th>\n",
       "      <th>depart</th>\n",
       "      <th>dewpoint</th>\n",
       "      <th>wetbulb</th>\n",
       "      <th>heat</th>\n",
       "      <th>cool</th>\n",
       "      <th>sunrise</th>\n",
       "      <th>sunset</th>\n",
       "      <th>...</th>\n",
       "      <th>smoke</th>\n",
       "      <th>widespread_dust</th>\n",
       "      <th>sandstorm</th>\n",
       "      <th>squall</th>\n",
       "      <th>freezing</th>\n",
       "      <th>shallow</th>\n",
       "      <th>partial</th>\n",
       "      <th>patches</th>\n",
       "      <th>blowing</th>\n",
       "      <th>vicinity</th>\n",
       "    </tr>\n",
       "    <tr>\n",
       "      <th>date</th>\n",
       "      <th></th>\n",
       "      <th></th>\n",
       "      <th></th>\n",
       "      <th></th>\n",
       "      <th></th>\n",
       "      <th></th>\n",
       "      <th></th>\n",
       "      <th></th>\n",
       "      <th></th>\n",
       "      <th></th>\n",
       "      <th></th>\n",
       "      <th></th>\n",
       "      <th></th>\n",
       "      <th></th>\n",
       "      <th></th>\n",
       "      <th></th>\n",
       "      <th></th>\n",
       "      <th></th>\n",
       "      <th></th>\n",
       "      <th></th>\n",
       "      <th></th>\n",
       "    </tr>\n",
       "  </thead>\n",
       "  <tbody>\n",
       "    <tr>\n",
       "      <th>2012-01-01</th>\n",
       "      <td>1</td>\n",
       "      <td>52.0</td>\n",
       "      <td>31.0</td>\n",
       "      <td>NaN</td>\n",
       "      <td>36.0</td>\n",
       "      <td>40.0</td>\n",
       "      <td>23.0</td>\n",
       "      <td>0.0</td>\n",
       "      <td>NaN</td>\n",
       "      <td>NaN</td>\n",
       "      <td>...</td>\n",
       "      <td>0</td>\n",
       "      <td>0</td>\n",
       "      <td>0</td>\n",
       "      <td>0</td>\n",
       "      <td>1</td>\n",
       "      <td>0</td>\n",
       "      <td>0</td>\n",
       "      <td>0</td>\n",
       "      <td>0</td>\n",
       "      <td>0</td>\n",
       "    </tr>\n",
       "    <tr>\n",
       "      <th>2012-01-01</th>\n",
       "      <td>2</td>\n",
       "      <td>48.0</td>\n",
       "      <td>33.0</td>\n",
       "      <td>16.0</td>\n",
       "      <td>37.0</td>\n",
       "      <td>39.0</td>\n",
       "      <td>24.0</td>\n",
       "      <td>0.0</td>\n",
       "      <td>716.0</td>\n",
       "      <td>1626.0</td>\n",
       "      <td>...</td>\n",
       "      <td>0</td>\n",
       "      <td>0</td>\n",
       "      <td>0</td>\n",
       "      <td>0</td>\n",
       "      <td>0</td>\n",
       "      <td>0</td>\n",
       "      <td>0</td>\n",
       "      <td>0</td>\n",
       "      <td>0</td>\n",
       "      <td>0</td>\n",
       "    </tr>\n",
       "    <tr>\n",
       "      <th>2012-01-01</th>\n",
       "      <td>3</td>\n",
       "      <td>55.0</td>\n",
       "      <td>34.0</td>\n",
       "      <td>9.0</td>\n",
       "      <td>24.0</td>\n",
       "      <td>36.0</td>\n",
       "      <td>20.0</td>\n",
       "      <td>0.0</td>\n",
       "      <td>735.0</td>\n",
       "      <td>1720.0</td>\n",
       "      <td>...</td>\n",
       "      <td>0</td>\n",
       "      <td>0</td>\n",
       "      <td>0</td>\n",
       "      <td>0</td>\n",
       "      <td>0</td>\n",
       "      <td>0</td>\n",
       "      <td>0</td>\n",
       "      <td>0</td>\n",
       "      <td>0</td>\n",
       "      <td>0</td>\n",
       "    </tr>\n",
       "    <tr>\n",
       "      <th>2012-01-01</th>\n",
       "      <td>4</td>\n",
       "      <td>63.0</td>\n",
       "      <td>47.0</td>\n",
       "      <td>4.0</td>\n",
       "      <td>28.0</td>\n",
       "      <td>43.0</td>\n",
       "      <td>10.0</td>\n",
       "      <td>0.0</td>\n",
       "      <td>728.0</td>\n",
       "      <td>1742.0</td>\n",
       "      <td>...</td>\n",
       "      <td>0</td>\n",
       "      <td>0</td>\n",
       "      <td>0</td>\n",
       "      <td>0</td>\n",
       "      <td>0</td>\n",
       "      <td>0</td>\n",
       "      <td>0</td>\n",
       "      <td>0</td>\n",
       "      <td>0</td>\n",
       "      <td>0</td>\n",
       "    </tr>\n",
       "    <tr>\n",
       "      <th>2012-01-01</th>\n",
       "      <td>6</td>\n",
       "      <td>63.0</td>\n",
       "      <td>34.0</td>\n",
       "      <td>0.0</td>\n",
       "      <td>31.0</td>\n",
       "      <td>43.0</td>\n",
       "      <td>16.0</td>\n",
       "      <td>0.0</td>\n",
       "      <td>727.0</td>\n",
       "      <td>1742.0</td>\n",
       "      <td>...</td>\n",
       "      <td>0</td>\n",
       "      <td>0</td>\n",
       "      <td>0</td>\n",
       "      <td>0</td>\n",
       "      <td>0</td>\n",
       "      <td>0</td>\n",
       "      <td>0</td>\n",
       "      <td>0</td>\n",
       "      <td>0</td>\n",
       "      <td>0</td>\n",
       "    </tr>\n",
       "  </tbody>\n",
       "</table>\n",
       "<p>5 rows × 40 columns</p>\n",
       "</div>"
      ],
      "text/plain": [
       "            station_nbr  tmax  tmin  depart  dewpoint  wetbulb  heat  cool  \\\n",
       "date                                                                         \n",
       "2012-01-01            1  52.0  31.0     NaN      36.0     40.0  23.0   0.0   \n",
       "2012-01-01            2  48.0  33.0    16.0      37.0     39.0  24.0   0.0   \n",
       "2012-01-01            3  55.0  34.0     9.0      24.0     36.0  20.0   0.0   \n",
       "2012-01-01            4  63.0  47.0     4.0      28.0     43.0  10.0   0.0   \n",
       "2012-01-01            6  63.0  34.0     0.0      31.0     43.0  16.0   0.0   \n",
       "\n",
       "            sunrise  sunset    ...    smoke  widespread_dust  sandstorm  \\\n",
       "date                           ...                                        \n",
       "2012-01-01      NaN     NaN    ...        0                0          0   \n",
       "2012-01-01    716.0  1626.0    ...        0                0          0   \n",
       "2012-01-01    735.0  1720.0    ...        0                0          0   \n",
       "2012-01-01    728.0  1742.0    ...        0                0          0   \n",
       "2012-01-01    727.0  1742.0    ...        0                0          0   \n",
       "\n",
       "            squall  freezing  shallow  partial  patches  blowing  vicinity  \n",
       "date                                                                        \n",
       "2012-01-01       0         1        0        0        0        0         0  \n",
       "2012-01-01       0         0        0        0        0        0         0  \n",
       "2012-01-01       0         0        0        0        0        0         0  \n",
       "2012-01-01       0         0        0        0        0        0         0  \n",
       "2012-01-01       0         0        0        0        0        0         0  \n",
       "\n",
       "[5 rows x 40 columns]"
      ]
     },
     "execution_count": 40,
     "metadata": {},
     "output_type": "execute_result"
    }
   ],
   "source": [
    "wSales.head()"
   ]
  },
  {
   "cell_type": "code",
   "execution_count": 41,
   "metadata": {
    "collapsed": true
   },
   "outputs": [],
   "source": [
    "wSales.to_csv(\"WeatherCleanWithEncoding.csv\")"
   ]
  }
 ],
 "metadata": {
  "kernelspec": {
   "display_name": "Python 3",
   "language": "python",
   "name": "python3"
  },
  "language_info": {
   "codemirror_mode": {
    "name": "ipython",
    "version": 3
   },
   "file_extension": ".py",
   "mimetype": "text/x-python",
   "name": "python",
   "nbconvert_exporter": "python",
   "pygments_lexer": "ipython3",
   "version": "3.6.2"
  }
 },
 "nbformat": 4,
 "nbformat_minor": 2
}
