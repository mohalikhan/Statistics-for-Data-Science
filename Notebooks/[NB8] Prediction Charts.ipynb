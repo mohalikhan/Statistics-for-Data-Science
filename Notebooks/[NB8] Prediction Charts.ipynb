{
 "cells": [
  {
   "cell_type": "code",
   "execution_count": 1,
   "metadata": {},
   "outputs": [
    {
     "data": {
      "text/html": [
       "<script>requirejs.config({paths: { 'plotly': ['https://cdn.plot.ly/plotly-latest.min']},});if(!window.Plotly) {{require(['plotly'],function(plotly) {window.Plotly=plotly;});}}</script>"
      ],
      "text/vnd.plotly.v1+html": [
       "<script>requirejs.config({paths: { 'plotly': ['https://cdn.plot.ly/plotly-latest.min']},});if(!window.Plotly) {{require(['plotly'],function(plotly) {window.Plotly=plotly;});}}</script>"
      ]
     },
     "metadata": {},
     "output_type": "display_data"
    }
   ],
   "source": [
    "import pandas as pd\n",
    "import numpy as np\n",
    "from statsmodels.formula.api import ols\n",
    "from sklearn.model_selection import KFold\n",
    "from sklearn.metrics import mean_squared_error\n",
    "import pickle\n",
    "from plotly.offline import download_plotlyjs, init_notebook_mode, plot, iplot\n",
    "init_notebook_mode(connected=True)\n",
    "import plotly.graph_objs as go"
   ]
  },
  {
   "cell_type": "code",
   "execution_count": 2,
   "metadata": {
    "collapsed": true
   },
   "outputs": [],
   "source": [
    "sales = pd.read_csv(\"../../Dataset/FINAL_LinkedCleanSalesWeatherWithEncoding.csv\",index_col=\"date\",parse_dates=True)"
   ]
  },
  {
   "cell_type": "code",
   "execution_count": 3,
   "metadata": {},
   "outputs": [
    {
     "data": {
      "text/html": [
       "<div>\n",
       "<style>\n",
       "    .dataframe thead tr:only-child th {\n",
       "        text-align: right;\n",
       "    }\n",
       "\n",
       "    .dataframe thead th {\n",
       "        text-align: left;\n",
       "    }\n",
       "\n",
       "    .dataframe tbody tr th {\n",
       "        vertical-align: top;\n",
       "    }\n",
       "</style>\n",
       "<table border=\"1\" class=\"dataframe\">\n",
       "  <thead>\n",
       "    <tr style=\"text-align: right;\">\n",
       "      <th></th>\n",
       "      <th>station_nbr</th>\n",
       "      <th>item_nbr</th>\n",
       "      <th>units</th>\n",
       "      <th>tmax</th>\n",
       "      <th>tmin</th>\n",
       "      <th>depart</th>\n",
       "      <th>dewpoint</th>\n",
       "      <th>wetbulb</th>\n",
       "      <th>heat</th>\n",
       "      <th>cool</th>\n",
       "      <th>...</th>\n",
       "      <th>smoke</th>\n",
       "      <th>widespread_dust</th>\n",
       "      <th>sandstorm</th>\n",
       "      <th>squall</th>\n",
       "      <th>freezing</th>\n",
       "      <th>shallow</th>\n",
       "      <th>partial</th>\n",
       "      <th>patches</th>\n",
       "      <th>blowing</th>\n",
       "      <th>vicinity</th>\n",
       "    </tr>\n",
       "    <tr>\n",
       "      <th>date</th>\n",
       "      <th></th>\n",
       "      <th></th>\n",
       "      <th></th>\n",
       "      <th></th>\n",
       "      <th></th>\n",
       "      <th></th>\n",
       "      <th></th>\n",
       "      <th></th>\n",
       "      <th></th>\n",
       "      <th></th>\n",
       "      <th></th>\n",
       "      <th></th>\n",
       "      <th></th>\n",
       "      <th></th>\n",
       "      <th></th>\n",
       "      <th></th>\n",
       "      <th></th>\n",
       "      <th></th>\n",
       "      <th></th>\n",
       "      <th></th>\n",
       "      <th></th>\n",
       "    </tr>\n",
       "  </thead>\n",
       "  <tbody>\n",
       "    <tr>\n",
       "      <th>2012-01-01</th>\n",
       "      <td>1</td>\n",
       "      <td>1</td>\n",
       "      <td>0</td>\n",
       "      <td>52.0</td>\n",
       "      <td>31.0</td>\n",
       "      <td>NaN</td>\n",
       "      <td>36.0</td>\n",
       "      <td>40.0</td>\n",
       "      <td>23.0</td>\n",
       "      <td>0.0</td>\n",
       "      <td>...</td>\n",
       "      <td>0.0</td>\n",
       "      <td>0.0</td>\n",
       "      <td>0.0</td>\n",
       "      <td>0.0</td>\n",
       "      <td>1.0</td>\n",
       "      <td>0.0</td>\n",
       "      <td>0.0</td>\n",
       "      <td>0.0</td>\n",
       "      <td>0.0</td>\n",
       "      <td>0.0</td>\n",
       "    </tr>\n",
       "    <tr>\n",
       "      <th>2012-01-01</th>\n",
       "      <td>1</td>\n",
       "      <td>2</td>\n",
       "      <td>0</td>\n",
       "      <td>52.0</td>\n",
       "      <td>31.0</td>\n",
       "      <td>NaN</td>\n",
       "      <td>36.0</td>\n",
       "      <td>40.0</td>\n",
       "      <td>23.0</td>\n",
       "      <td>0.0</td>\n",
       "      <td>...</td>\n",
       "      <td>0.0</td>\n",
       "      <td>0.0</td>\n",
       "      <td>0.0</td>\n",
       "      <td>0.0</td>\n",
       "      <td>1.0</td>\n",
       "      <td>0.0</td>\n",
       "      <td>0.0</td>\n",
       "      <td>0.0</td>\n",
       "      <td>0.0</td>\n",
       "      <td>0.0</td>\n",
       "    </tr>\n",
       "    <tr>\n",
       "      <th>2012-01-01</th>\n",
       "      <td>1</td>\n",
       "      <td>3</td>\n",
       "      <td>0</td>\n",
       "      <td>52.0</td>\n",
       "      <td>31.0</td>\n",
       "      <td>NaN</td>\n",
       "      <td>36.0</td>\n",
       "      <td>40.0</td>\n",
       "      <td>23.0</td>\n",
       "      <td>0.0</td>\n",
       "      <td>...</td>\n",
       "      <td>0.0</td>\n",
       "      <td>0.0</td>\n",
       "      <td>0.0</td>\n",
       "      <td>0.0</td>\n",
       "      <td>1.0</td>\n",
       "      <td>0.0</td>\n",
       "      <td>0.0</td>\n",
       "      <td>0.0</td>\n",
       "      <td>0.0</td>\n",
       "      <td>0.0</td>\n",
       "    </tr>\n",
       "    <tr>\n",
       "      <th>2012-01-01</th>\n",
       "      <td>1</td>\n",
       "      <td>4</td>\n",
       "      <td>0</td>\n",
       "      <td>52.0</td>\n",
       "      <td>31.0</td>\n",
       "      <td>NaN</td>\n",
       "      <td>36.0</td>\n",
       "      <td>40.0</td>\n",
       "      <td>23.0</td>\n",
       "      <td>0.0</td>\n",
       "      <td>...</td>\n",
       "      <td>0.0</td>\n",
       "      <td>0.0</td>\n",
       "      <td>0.0</td>\n",
       "      <td>0.0</td>\n",
       "      <td>1.0</td>\n",
       "      <td>0.0</td>\n",
       "      <td>0.0</td>\n",
       "      <td>0.0</td>\n",
       "      <td>0.0</td>\n",
       "      <td>0.0</td>\n",
       "    </tr>\n",
       "    <tr>\n",
       "      <th>2012-01-01</th>\n",
       "      <td>1</td>\n",
       "      <td>5</td>\n",
       "      <td>0</td>\n",
       "      <td>52.0</td>\n",
       "      <td>31.0</td>\n",
       "      <td>NaN</td>\n",
       "      <td>36.0</td>\n",
       "      <td>40.0</td>\n",
       "      <td>23.0</td>\n",
       "      <td>0.0</td>\n",
       "      <td>...</td>\n",
       "      <td>0.0</td>\n",
       "      <td>0.0</td>\n",
       "      <td>0.0</td>\n",
       "      <td>0.0</td>\n",
       "      <td>1.0</td>\n",
       "      <td>0.0</td>\n",
       "      <td>0.0</td>\n",
       "      <td>0.0</td>\n",
       "      <td>0.0</td>\n",
       "      <td>0.0</td>\n",
       "    </tr>\n",
       "  </tbody>\n",
       "</table>\n",
       "<p>5 rows × 41 columns</p>\n",
       "</div>"
      ],
      "text/plain": [
       "            station_nbr  item_nbr  units  tmax  tmin  depart  dewpoint  \\\n",
       "date                                                                     \n",
       "2012-01-01            1         1      0  52.0  31.0     NaN      36.0   \n",
       "2012-01-01            1         2      0  52.0  31.0     NaN      36.0   \n",
       "2012-01-01            1         3      0  52.0  31.0     NaN      36.0   \n",
       "2012-01-01            1         4      0  52.0  31.0     NaN      36.0   \n",
       "2012-01-01            1         5      0  52.0  31.0     NaN      36.0   \n",
       "\n",
       "            wetbulb  heat  cool    ...     smoke  widespread_dust  sandstorm  \\\n",
       "date                               ...                                         \n",
       "2012-01-01     40.0  23.0   0.0    ...       0.0              0.0        0.0   \n",
       "2012-01-01     40.0  23.0   0.0    ...       0.0              0.0        0.0   \n",
       "2012-01-01     40.0  23.0   0.0    ...       0.0              0.0        0.0   \n",
       "2012-01-01     40.0  23.0   0.0    ...       0.0              0.0        0.0   \n",
       "2012-01-01     40.0  23.0   0.0    ...       0.0              0.0        0.0   \n",
       "\n",
       "            squall  freezing  shallow  partial  patches  blowing  vicinity  \n",
       "date                                                                        \n",
       "2012-01-01     0.0       1.0      0.0      0.0      0.0      0.0       0.0  \n",
       "2012-01-01     0.0       1.0      0.0      0.0      0.0      0.0       0.0  \n",
       "2012-01-01     0.0       1.0      0.0      0.0      0.0      0.0       0.0  \n",
       "2012-01-01     0.0       1.0      0.0      0.0      0.0      0.0       0.0  \n",
       "2012-01-01     0.0       1.0      0.0      0.0      0.0      0.0       0.0  \n",
       "\n",
       "[5 rows x 41 columns]"
      ]
     },
     "execution_count": 3,
     "metadata": {},
     "output_type": "execute_result"
    }
   ],
   "source": [
    "sales.head()"
   ]
  },
  {
   "cell_type": "code",
   "execution_count": 4,
   "metadata": {},
   "outputs": [
    {
     "data": {
      "text/plain": [
       "item_nbr\n",
       "45    1005111\n",
       "9      916615\n",
       "5      846662\n",
       "44     577193\n",
       "16     226772\n",
       "Name: units, dtype: int64"
      ]
     },
     "execution_count": 4,
     "metadata": {},
     "output_type": "execute_result"
    }
   ],
   "source": [
    "sales.groupby(\"item_nbr\")[\"units\"].sum().sort_values(ascending=False).head()"
   ]
  },
  {
   "cell_type": "code",
   "execution_count": 5,
   "metadata": {
    "collapsed": true
   },
   "outputs": [],
   "source": [
    "# functions\n",
    "def saveFile(model, filename):\n",
    "    pickle.dump(model, open(filename, 'wb'))\n",
    "    \n",
    "def loadFile(filename):\n",
    "    return pickle.load(open(filename, 'rb'))\n",
    "\n",
    "def predict_sales(target_itemSales, sales_items, model):\n",
    "    target_itemSales[\"units_p\"] = pd.DataFrame(model.predict(sales_items))\n",
    "    target_itemSales.date = pd.to_datetime(target_itemSales.date)\n",
    "    target_itemSales.set_index(\"date\",inplace=True)\n",
    "\n",
    "    target_itemSales.units_p.fillna(0,inplace=True)\n",
    "    target_itemSales.units_p = target_itemSales.units_p.astype(np.int64)\n",
    "    target_itemSales.units_p = target_itemSales.units_p.apply(lambda x: 0 if x < 0 else x)\n",
    "    \n",
    "def create_chart(df, title):\n",
    "    trace1 = go.Scatter(\n",
    "        x = df.index,\n",
    "        y = df[\"units\"],\n",
    "        mode = 'markers',\n",
    "        name = 'units sold'\n",
    "    )\n",
    "\n",
    "    trace2 = go.Scatter(\n",
    "        x = df.index,\n",
    "        y = df[\"units_p\"],\n",
    "        mode = 'line',\n",
    "        name = 'predict'\n",
    "    )\n",
    "\n",
    "    layout= go.Layout(\n",
    "        title= title,\n",
    "        xaxis= dict(\n",
    "            title= 'Date',\n",
    "        ),\n",
    "        yaxis=dict(\n",
    "            title= 'Units Sold',\n",
    "        ),\n",
    "        showlegend= True\n",
    "    )\n",
    "\n",
    "    data = [trace1, trace2]\n",
    "    fig= go.Figure(data=data, layout=layout)\n",
    "    iplot(fig)"
   ]
  },
  {
   "cell_type": "code",
   "execution_count": 6,
   "metadata": {
    "collapsed": true
   },
   "outputs": [],
   "source": [
    "# load regression\n",
    "regression = loadFile(\"../../Regression Analysis/OptRegressionMSE\")"
   ]
  },
  {
   "cell_type": "code",
   "execution_count": 7,
   "metadata": {},
   "outputs": [
    {
     "data": {
      "text/html": [
       "<div>\n",
       "<style>\n",
       "    .dataframe thead tr:only-child th {\n",
       "        text-align: right;\n",
       "    }\n",
       "\n",
       "    .dataframe thead th {\n",
       "        text-align: left;\n",
       "    }\n",
       "\n",
       "    .dataframe tbody tr th {\n",
       "        vertical-align: top;\n",
       "    }\n",
       "</style>\n",
       "<table border=\"1\" class=\"dataframe\">\n",
       "  <thead>\n",
       "    <tr style=\"text-align: right;\">\n",
       "      <th></th>\n",
       "      <th>model</th>\n",
       "      <th>selection</th>\n",
       "      <th>rsquared_adj</th>\n",
       "      <th>MSE</th>\n",
       "    </tr>\n",
       "    <tr>\n",
       "      <th>item_nbr</th>\n",
       "      <th></th>\n",
       "      <th></th>\n",
       "      <th></th>\n",
       "      <th></th>\n",
       "    </tr>\n",
       "  </thead>\n",
       "  <tbody>\n",
       "    <tr>\n",
       "      <th>1</th>\n",
       "      <td>&lt;statsmodels.regression.linear_model.Regressio...</td>\n",
       "      <td>backward</td>\n",
       "      <td>0.048489</td>\n",
       "      <td>0.130139</td>\n",
       "    </tr>\n",
       "    <tr>\n",
       "      <th>2</th>\n",
       "      <td>&lt;statsmodels.regression.linear_model.Regressio...</td>\n",
       "      <td>backward</td>\n",
       "      <td>0.061097</td>\n",
       "      <td>0.918617</td>\n",
       "    </tr>\n",
       "    <tr>\n",
       "      <th>3</th>\n",
       "      <td>&lt;statsmodels.regression.linear_model.Regressio...</td>\n",
       "      <td>backward</td>\n",
       "      <td>0.089020</td>\n",
       "      <td>0.075939</td>\n",
       "    </tr>\n",
       "    <tr>\n",
       "      <th>4</th>\n",
       "      <td>&lt;statsmodels.regression.linear_model.Regressio...</td>\n",
       "      <td>backward</td>\n",
       "      <td>0.007371</td>\n",
       "      <td>0.026946</td>\n",
       "    </tr>\n",
       "    <tr>\n",
       "      <th>5</th>\n",
       "      <td>&lt;statsmodels.regression.linear_model.Regressio...</td>\n",
       "      <td>forward</td>\n",
       "      <td>0.176935</td>\n",
       "      <td>3611.746326</td>\n",
       "    </tr>\n",
       "  </tbody>\n",
       "</table>\n",
       "</div>"
      ],
      "text/plain": [
       "                                                      model selection  \\\n",
       "item_nbr                                                                \n",
       "1         <statsmodels.regression.linear_model.Regressio...  backward   \n",
       "2         <statsmodels.regression.linear_model.Regressio...  backward   \n",
       "3         <statsmodels.regression.linear_model.Regressio...  backward   \n",
       "4         <statsmodels.regression.linear_model.Regressio...  backward   \n",
       "5         <statsmodels.regression.linear_model.Regressio...   forward   \n",
       "\n",
       "          rsquared_adj          MSE  \n",
       "item_nbr                             \n",
       "1             0.048489     0.130139  \n",
       "2             0.061097     0.918617  \n",
       "3             0.089020     0.075939  \n",
       "4             0.007371     0.026946  \n",
       "5             0.176935  3611.746326  "
      ]
     },
     "execution_count": 7,
     "metadata": {},
     "output_type": "execute_result"
    }
   ],
   "source": [
    "regression.head()"
   ]
  },
  {
   "cell_type": "code",
   "execution_count": 8,
   "metadata": {
    "collapsed": true
   },
   "outputs": [],
   "source": [
    "# get models\n",
    "model_45 = regression.loc[45]['model']\n",
    "model_9 = regression.loc[9]['model']\n",
    "model_5 = regression.loc[5]['model']"
   ]
  },
  {
   "cell_type": "code",
   "execution_count": 9,
   "metadata": {
    "collapsed": true
   },
   "outputs": [],
   "source": [
    "# filter on items\n",
    "sales_items_45 = sales.loc[sales.item_nbr == 45]\n",
    "sales_items_9 = sales.loc[sales.item_nbr == 9]\n",
    "sales_items_5 = sales.loc[sales.item_nbr == 5]"
   ]
  },
  {
   "cell_type": "code",
   "execution_count": 10,
   "metadata": {
    "collapsed": true
   },
   "outputs": [],
   "source": [
    "# create only units\n",
    "target_itemSales_45 = sales_items_45.loc[:]['units']\n",
    "target_itemSales_9 = sales_items_9.loc[:]['units']\n",
    "target_itemSales_5 = sales_items_5.loc[:]['units']"
   ]
  },
  {
   "cell_type": "code",
   "execution_count": 11,
   "metadata": {
    "collapsed": true
   },
   "outputs": [],
   "source": [
    "# reindex\n",
    "sales_items_45 = sales_items_45.reset_index()\n",
    "target_itemSales_45 = target_itemSales_45.reset_index() \n",
    "\n",
    "sales_items_9 = sales_items_9.reset_index()\n",
    "target_itemSales_9 = target_itemSales_9.reset_index() \n",
    "\n",
    "sales_items_5 = sales_items_5.reset_index()\n",
    "target_itemSales_5 = target_itemSales_5.reset_index() \n"
   ]
  },
  {
   "cell_type": "code",
   "execution_count": 12,
   "metadata": {
    "collapsed": true
   },
   "outputs": [],
   "source": [
    "predict_sales(target_itemSales_45, sales_items_45, model_45)\n",
    "predict_sales(target_itemSales_9, sales_items_9, model_9)\n",
    "predict_sales(target_itemSales_5, sales_items_5, model_5)"
   ]
  },
  {
   "cell_type": "code",
   "execution_count": 13,
   "metadata": {},
   "outputs": [
    {
     "data": {
      "application/vnd.plotly.v1+json": {
       "data": [
        {
         "mode": "markers",
         "name": "units sold",
         "type": "scatter",
         "x": [
          "2012-01-31",
          "2012-02-29",
          "2012-03-31",
          "2012-04-30",
          "2012-05-31",
          "2012-06-30",
          "2012-07-31",
          "2012-08-31",
          "2012-09-30",
          "2012-10-31",
          "2012-11-30",
          "2012-12-31",
          "2013-01-31",
          "2013-02-28",
          "2013-03-31",
          "2013-04-30",
          "2013-05-31",
          "2013-06-30",
          "2013-07-31",
          "2013-08-31",
          "2013-09-30",
          "2013-10-31",
          "2013-11-30",
          "2013-12-31",
          "2014-01-31",
          "2014-02-28",
          "2014-03-31",
          "2014-04-30",
          "2014-05-31",
          "2014-06-30",
          "2014-07-31",
          "2014-08-31",
          "2014-09-30",
          "2014-10-31"
         ],
         "y": [
          37272,
          33583,
          35195,
          34540,
          35591,
          37525,
          37670,
          37329,
          35118,
          33573,
          33064,
          36745,
          36752,
          31943,
          32990,
          24665,
          27290,
          26440,
          28881,
          28917,
          23315,
          28275,
          30566,
          29903,
          30562,
          25437,
          28214,
          26433,
          20204,
          21799,
          17621,
          21878,
          18620,
          17201
         ]
        },
        {
         "mode": "line",
         "name": "predict",
         "type": "scatter",
         "x": [
          "2012-01-31",
          "2012-02-29",
          "2012-03-31",
          "2012-04-30",
          "2012-05-31",
          "2012-06-30",
          "2012-07-31",
          "2012-08-31",
          "2012-09-30",
          "2012-10-31",
          "2012-11-30",
          "2012-12-31",
          "2013-01-31",
          "2013-02-28",
          "2013-03-31",
          "2013-04-30",
          "2013-05-31",
          "2013-06-30",
          "2013-07-31",
          "2013-08-31",
          "2013-09-30",
          "2013-10-31",
          "2013-11-30",
          "2013-12-31",
          "2014-01-31",
          "2014-02-28",
          "2014-03-31",
          "2014-04-30",
          "2014-05-31",
          "2014-06-30",
          "2014-07-31",
          "2014-08-31",
          "2014-09-30",
          "2014-10-31"
         ],
         "y": [
          32733,
          28202,
          33666,
          32556,
          33937,
          34194,
          36227,
          35603,
          32447,
          31508,
          33826,
          29709,
          32465,
          27569,
          33169,
          26212,
          27835,
          26607,
          28484,
          26992,
          24330,
          27916,
          28464,
          28003,
          31381,
          25851,
          32310,
          30810,
          26934,
          25637,
          24389,
          31039,
          28484,
          27675
         ]
        }
       ],
       "layout": {
        "showlegend": true,
        "title": "Monthly Sale Prediction for Item 45",
        "xaxis": {
         "title": "Date"
        },
        "yaxis": {
         "title": "Units Sold"
        }
       }
      },
      "text/html": [
       "<div id=\"7b077d74-c468-4db6-ae62-805021574cbe\" style=\"height: 525px; width: 100%;\" class=\"plotly-graph-div\"></div><script type=\"text/javascript\">require([\"plotly\"], function(Plotly) { window.PLOTLYENV=window.PLOTLYENV || {};window.PLOTLYENV.BASE_URL=\"https://plot.ly\";Plotly.newPlot(\"7b077d74-c468-4db6-ae62-805021574cbe\", [{\"type\": \"scatter\", \"x\": [\"2012-01-31\", \"2012-02-29\", \"2012-03-31\", \"2012-04-30\", \"2012-05-31\", \"2012-06-30\", \"2012-07-31\", \"2012-08-31\", \"2012-09-30\", \"2012-10-31\", \"2012-11-30\", \"2012-12-31\", \"2013-01-31\", \"2013-02-28\", \"2013-03-31\", \"2013-04-30\", \"2013-05-31\", \"2013-06-30\", \"2013-07-31\", \"2013-08-31\", \"2013-09-30\", \"2013-10-31\", \"2013-11-30\", \"2013-12-31\", \"2014-01-31\", \"2014-02-28\", \"2014-03-31\", \"2014-04-30\", \"2014-05-31\", \"2014-06-30\", \"2014-07-31\", \"2014-08-31\", \"2014-09-30\", \"2014-10-31\"], \"y\": [37272, 33583, 35195, 34540, 35591, 37525, 37670, 37329, 35118, 33573, 33064, 36745, 36752, 31943, 32990, 24665, 27290, 26440, 28881, 28917, 23315, 28275, 30566, 29903, 30562, 25437, 28214, 26433, 20204, 21799, 17621, 21878, 18620, 17201], \"mode\": \"markers\", \"name\": \"units sold\"}, {\"type\": \"scatter\", \"x\": [\"2012-01-31\", \"2012-02-29\", \"2012-03-31\", \"2012-04-30\", \"2012-05-31\", \"2012-06-30\", \"2012-07-31\", \"2012-08-31\", \"2012-09-30\", \"2012-10-31\", \"2012-11-30\", \"2012-12-31\", \"2013-01-31\", \"2013-02-28\", \"2013-03-31\", \"2013-04-30\", \"2013-05-31\", \"2013-06-30\", \"2013-07-31\", \"2013-08-31\", \"2013-09-30\", \"2013-10-31\", \"2013-11-30\", \"2013-12-31\", \"2014-01-31\", \"2014-02-28\", \"2014-03-31\", \"2014-04-30\", \"2014-05-31\", \"2014-06-30\", \"2014-07-31\", \"2014-08-31\", \"2014-09-30\", \"2014-10-31\"], \"y\": [32733, 28202, 33666, 32556, 33937, 34194, 36227, 35603, 32447, 31508, 33826, 29709, 32465, 27569, 33169, 26212, 27835, 26607, 28484, 26992, 24330, 27916, 28464, 28003, 31381, 25851, 32310, 30810, 26934, 25637, 24389, 31039, 28484, 27675], \"mode\": \"line\", \"name\": \"predict\"}], {\"title\": \"Monthly Sale Prediction for Item 45\", \"xaxis\": {\"title\": \"Date\"}, \"yaxis\": {\"title\": \"Units Sold\"}, \"showlegend\": true}, {\"showLink\": true, \"linkText\": \"Export to plot.ly\"})});</script>"
      ],
      "text/vnd.plotly.v1+html": [
       "<div id=\"7b077d74-c468-4db6-ae62-805021574cbe\" style=\"height: 525px; width: 100%;\" class=\"plotly-graph-div\"></div><script type=\"text/javascript\">require([\"plotly\"], function(Plotly) { window.PLOTLYENV=window.PLOTLYENV || {};window.PLOTLYENV.BASE_URL=\"https://plot.ly\";Plotly.newPlot(\"7b077d74-c468-4db6-ae62-805021574cbe\", [{\"type\": \"scatter\", \"x\": [\"2012-01-31\", \"2012-02-29\", \"2012-03-31\", \"2012-04-30\", \"2012-05-31\", \"2012-06-30\", \"2012-07-31\", \"2012-08-31\", \"2012-09-30\", \"2012-10-31\", \"2012-11-30\", \"2012-12-31\", \"2013-01-31\", \"2013-02-28\", \"2013-03-31\", \"2013-04-30\", \"2013-05-31\", \"2013-06-30\", \"2013-07-31\", \"2013-08-31\", \"2013-09-30\", \"2013-10-31\", \"2013-11-30\", \"2013-12-31\", \"2014-01-31\", \"2014-02-28\", \"2014-03-31\", \"2014-04-30\", \"2014-05-31\", \"2014-06-30\", \"2014-07-31\", \"2014-08-31\", \"2014-09-30\", \"2014-10-31\"], \"y\": [37272, 33583, 35195, 34540, 35591, 37525, 37670, 37329, 35118, 33573, 33064, 36745, 36752, 31943, 32990, 24665, 27290, 26440, 28881, 28917, 23315, 28275, 30566, 29903, 30562, 25437, 28214, 26433, 20204, 21799, 17621, 21878, 18620, 17201], \"mode\": \"markers\", \"name\": \"units sold\"}, {\"type\": \"scatter\", \"x\": [\"2012-01-31\", \"2012-02-29\", \"2012-03-31\", \"2012-04-30\", \"2012-05-31\", \"2012-06-30\", \"2012-07-31\", \"2012-08-31\", \"2012-09-30\", \"2012-10-31\", \"2012-11-30\", \"2012-12-31\", \"2013-01-31\", \"2013-02-28\", \"2013-03-31\", \"2013-04-30\", \"2013-05-31\", \"2013-06-30\", \"2013-07-31\", \"2013-08-31\", \"2013-09-30\", \"2013-10-31\", \"2013-11-30\", \"2013-12-31\", \"2014-01-31\", \"2014-02-28\", \"2014-03-31\", \"2014-04-30\", \"2014-05-31\", \"2014-06-30\", \"2014-07-31\", \"2014-08-31\", \"2014-09-30\", \"2014-10-31\"], \"y\": [32733, 28202, 33666, 32556, 33937, 34194, 36227, 35603, 32447, 31508, 33826, 29709, 32465, 27569, 33169, 26212, 27835, 26607, 28484, 26992, 24330, 27916, 28464, 28003, 31381, 25851, 32310, 30810, 26934, 25637, 24389, 31039, 28484, 27675], \"mode\": \"line\", \"name\": \"predict\"}], {\"title\": \"Monthly Sale Prediction for Item 45\", \"xaxis\": {\"title\": \"Date\"}, \"yaxis\": {\"title\": \"Units Sold\"}, \"showlegend\": true}, {\"showLink\": true, \"linkText\": \"Export to plot.ly\"})});</script>"
      ]
     },
     "metadata": {},
     "output_type": "display_data"
    }
   ],
   "source": [
    "create_chart(target_itemSales_45.resample(\"M\").sum(), 'Monthly Sale Prediction for Item 45')"
   ]
  },
  {
   "cell_type": "code",
   "execution_count": 14,
   "metadata": {},
   "outputs": [
    {
     "data": {
      "application/vnd.plotly.v1+json": {
       "data": [
        {
         "mode": "markers",
         "name": "units sold",
         "type": "scatter",
         "x": [
          "2012-01-31",
          "2012-02-29",
          "2012-03-31",
          "2012-04-30",
          "2012-05-31",
          "2012-06-30",
          "2012-07-31",
          "2012-08-31",
          "2012-09-30",
          "2012-10-31",
          "2012-11-30",
          "2012-12-31",
          "2013-01-31",
          "2013-02-28",
          "2013-03-31",
          "2013-04-30",
          "2013-05-31",
          "2013-06-30",
          "2013-07-31",
          "2013-08-31",
          "2013-09-30",
          "2013-10-31",
          "2013-11-30",
          "2013-12-31",
          "2014-01-31",
          "2014-02-28",
          "2014-03-31",
          "2014-04-30",
          "2014-05-31",
          "2014-06-30",
          "2014-07-31",
          "2014-08-31",
          "2014-09-30",
          "2014-10-31"
         ],
         "y": [
          33758,
          34239,
          32161,
          29933,
          26419,
          29632,
          29967,
          33702,
          33220,
          33939,
          29473,
          34068,
          32541,
          28135,
          30633,
          24021,
          20359,
          20898,
          22559,
          25601,
          23935,
          26728,
          27069,
          27610,
          31470,
          24409,
          25609,
          23379,
          18347,
          18462,
          17481,
          25093,
          20643,
          21122
         ]
        },
        {
         "mode": "line",
         "name": "predict",
         "type": "scatter",
         "x": [
          "2012-01-31",
          "2012-02-29",
          "2012-03-31",
          "2012-04-30",
          "2012-05-31",
          "2012-06-30",
          "2012-07-31",
          "2012-08-31",
          "2012-09-30",
          "2012-10-31",
          "2012-11-30",
          "2012-12-31",
          "2013-01-31",
          "2013-02-28",
          "2013-03-31",
          "2013-04-30",
          "2013-05-31",
          "2013-06-30",
          "2013-07-31",
          "2013-08-31",
          "2013-09-30",
          "2013-10-31",
          "2013-11-30",
          "2013-12-31",
          "2014-01-31",
          "2014-02-28",
          "2014-03-31",
          "2014-04-30",
          "2014-05-31",
          "2014-06-30",
          "2014-07-31",
          "2014-08-31",
          "2014-09-30",
          "2014-10-31"
         ],
         "y": [
          30412,
          28027,
          28687,
          28445,
          29448,
          30257,
          32856,
          31936,
          28934,
          28534,
          28734,
          28504,
          30324,
          27695,
          30974,
          22496,
          22785,
          22417,
          24945,
          25231,
          21670,
          24248,
          24973,
          25236,
          27716,
          23600,
          26856,
          25751,
          22635,
          23027,
          22301,
          26969,
          23601,
          22882
         ]
        }
       ],
       "layout": {
        "showlegend": true,
        "title": "Monthly Sale Prediction for Item 9",
        "xaxis": {
         "title": "Date"
        },
        "yaxis": {
         "title": "Units Sold"
        }
       }
      },
      "text/html": [
       "<div id=\"efe2f9b8-7fd3-42a4-9458-7bbb1e547e9f\" style=\"height: 525px; width: 100%;\" class=\"plotly-graph-div\"></div><script type=\"text/javascript\">require([\"plotly\"], function(Plotly) { window.PLOTLYENV=window.PLOTLYENV || {};window.PLOTLYENV.BASE_URL=\"https://plot.ly\";Plotly.newPlot(\"efe2f9b8-7fd3-42a4-9458-7bbb1e547e9f\", [{\"type\": \"scatter\", \"x\": [\"2012-01-31\", \"2012-02-29\", \"2012-03-31\", \"2012-04-30\", \"2012-05-31\", \"2012-06-30\", \"2012-07-31\", \"2012-08-31\", \"2012-09-30\", \"2012-10-31\", \"2012-11-30\", \"2012-12-31\", \"2013-01-31\", \"2013-02-28\", \"2013-03-31\", \"2013-04-30\", \"2013-05-31\", \"2013-06-30\", \"2013-07-31\", \"2013-08-31\", \"2013-09-30\", \"2013-10-31\", \"2013-11-30\", \"2013-12-31\", \"2014-01-31\", \"2014-02-28\", \"2014-03-31\", \"2014-04-30\", \"2014-05-31\", \"2014-06-30\", \"2014-07-31\", \"2014-08-31\", \"2014-09-30\", \"2014-10-31\"], \"y\": [33758, 34239, 32161, 29933, 26419, 29632, 29967, 33702, 33220, 33939, 29473, 34068, 32541, 28135, 30633, 24021, 20359, 20898, 22559, 25601, 23935, 26728, 27069, 27610, 31470, 24409, 25609, 23379, 18347, 18462, 17481, 25093, 20643, 21122], \"mode\": \"markers\", \"name\": \"units sold\"}, {\"type\": \"scatter\", \"x\": [\"2012-01-31\", \"2012-02-29\", \"2012-03-31\", \"2012-04-30\", \"2012-05-31\", \"2012-06-30\", \"2012-07-31\", \"2012-08-31\", \"2012-09-30\", \"2012-10-31\", \"2012-11-30\", \"2012-12-31\", \"2013-01-31\", \"2013-02-28\", \"2013-03-31\", \"2013-04-30\", \"2013-05-31\", \"2013-06-30\", \"2013-07-31\", \"2013-08-31\", \"2013-09-30\", \"2013-10-31\", \"2013-11-30\", \"2013-12-31\", \"2014-01-31\", \"2014-02-28\", \"2014-03-31\", \"2014-04-30\", \"2014-05-31\", \"2014-06-30\", \"2014-07-31\", \"2014-08-31\", \"2014-09-30\", \"2014-10-31\"], \"y\": [30412, 28027, 28687, 28445, 29448, 30257, 32856, 31936, 28934, 28534, 28734, 28504, 30324, 27695, 30974, 22496, 22785, 22417, 24945, 25231, 21670, 24248, 24973, 25236, 27716, 23600, 26856, 25751, 22635, 23027, 22301, 26969, 23601, 22882], \"mode\": \"line\", \"name\": \"predict\"}], {\"title\": \"Monthly Sale Prediction for Item 9\", \"xaxis\": {\"title\": \"Date\"}, \"yaxis\": {\"title\": \"Units Sold\"}, \"showlegend\": true}, {\"showLink\": true, \"linkText\": \"Export to plot.ly\"})});</script>"
      ],
      "text/vnd.plotly.v1+html": [
       "<div id=\"efe2f9b8-7fd3-42a4-9458-7bbb1e547e9f\" style=\"height: 525px; width: 100%;\" class=\"plotly-graph-div\"></div><script type=\"text/javascript\">require([\"plotly\"], function(Plotly) { window.PLOTLYENV=window.PLOTLYENV || {};window.PLOTLYENV.BASE_URL=\"https://plot.ly\";Plotly.newPlot(\"efe2f9b8-7fd3-42a4-9458-7bbb1e547e9f\", [{\"type\": \"scatter\", \"x\": [\"2012-01-31\", \"2012-02-29\", \"2012-03-31\", \"2012-04-30\", \"2012-05-31\", \"2012-06-30\", \"2012-07-31\", \"2012-08-31\", \"2012-09-30\", \"2012-10-31\", \"2012-11-30\", \"2012-12-31\", \"2013-01-31\", \"2013-02-28\", \"2013-03-31\", \"2013-04-30\", \"2013-05-31\", \"2013-06-30\", \"2013-07-31\", \"2013-08-31\", \"2013-09-30\", \"2013-10-31\", \"2013-11-30\", \"2013-12-31\", \"2014-01-31\", \"2014-02-28\", \"2014-03-31\", \"2014-04-30\", \"2014-05-31\", \"2014-06-30\", \"2014-07-31\", \"2014-08-31\", \"2014-09-30\", \"2014-10-31\"], \"y\": [33758, 34239, 32161, 29933, 26419, 29632, 29967, 33702, 33220, 33939, 29473, 34068, 32541, 28135, 30633, 24021, 20359, 20898, 22559, 25601, 23935, 26728, 27069, 27610, 31470, 24409, 25609, 23379, 18347, 18462, 17481, 25093, 20643, 21122], \"mode\": \"markers\", \"name\": \"units sold\"}, {\"type\": \"scatter\", \"x\": [\"2012-01-31\", \"2012-02-29\", \"2012-03-31\", \"2012-04-30\", \"2012-05-31\", \"2012-06-30\", \"2012-07-31\", \"2012-08-31\", \"2012-09-30\", \"2012-10-31\", \"2012-11-30\", \"2012-12-31\", \"2013-01-31\", \"2013-02-28\", \"2013-03-31\", \"2013-04-30\", \"2013-05-31\", \"2013-06-30\", \"2013-07-31\", \"2013-08-31\", \"2013-09-30\", \"2013-10-31\", \"2013-11-30\", \"2013-12-31\", \"2014-01-31\", \"2014-02-28\", \"2014-03-31\", \"2014-04-30\", \"2014-05-31\", \"2014-06-30\", \"2014-07-31\", \"2014-08-31\", \"2014-09-30\", \"2014-10-31\"], \"y\": [30412, 28027, 28687, 28445, 29448, 30257, 32856, 31936, 28934, 28534, 28734, 28504, 30324, 27695, 30974, 22496, 22785, 22417, 24945, 25231, 21670, 24248, 24973, 25236, 27716, 23600, 26856, 25751, 22635, 23027, 22301, 26969, 23601, 22882], \"mode\": \"line\", \"name\": \"predict\"}], {\"title\": \"Monthly Sale Prediction for Item 9\", \"xaxis\": {\"title\": \"Date\"}, \"yaxis\": {\"title\": \"Units Sold\"}, \"showlegend\": true}, {\"showLink\": true, \"linkText\": \"Export to plot.ly\"})});</script>"
      ]
     },
     "metadata": {},
     "output_type": "display_data"
    }
   ],
   "source": [
    "create_chart(target_itemSales_9.resample(\"M\").sum(), 'Monthly Sale Prediction for Item 9')"
   ]
  },
  {
   "cell_type": "code",
   "execution_count": 15,
   "metadata": {},
   "outputs": [
    {
     "data": {
      "application/vnd.plotly.v1+json": {
       "data": [
        {
         "mode": "markers",
         "name": "units sold",
         "type": "scatter",
         "x": [
          "2012-01-31",
          "2012-02-29",
          "2012-03-31",
          "2012-04-30",
          "2012-05-31",
          "2012-06-30",
          "2012-07-31",
          "2012-08-31",
          "2012-09-30",
          "2012-10-31",
          "2012-11-30",
          "2012-12-31",
          "2013-01-31",
          "2013-02-28",
          "2013-03-31",
          "2013-04-30",
          "2013-05-31",
          "2013-06-30",
          "2013-07-31",
          "2013-08-31",
          "2013-09-30",
          "2013-10-31",
          "2013-11-30",
          "2013-12-31",
          "2014-01-31",
          "2014-02-28",
          "2014-03-31",
          "2014-04-30",
          "2014-05-31",
          "2014-06-30",
          "2014-07-31",
          "2014-08-31",
          "2014-09-30",
          "2014-10-31"
         ],
         "y": [
          41022,
          33291,
          31425,
          31621,
          30912,
          33524,
          34831,
          33314,
          29219,
          28854,
          33517,
          30788,
          28009,
          24361,
          26471,
          17766,
          18912,
          19081,
          20400,
          22513,
          17445,
          20804,
          24997,
          26716,
          26007,
          20328,
          21793,
          19338,
          14857,
          17073,
          15774,
          20028,
          14611,
          17060
         ]
        },
        {
         "mode": "line",
         "name": "predict",
         "type": "scatter",
         "x": [
          "2012-01-31",
          "2012-02-29",
          "2012-03-31",
          "2012-04-30",
          "2012-05-31",
          "2012-06-30",
          "2012-07-31",
          "2012-08-31",
          "2012-09-30",
          "2012-10-31",
          "2012-11-30",
          "2012-12-31",
          "2013-01-31",
          "2013-02-28",
          "2013-03-31",
          "2013-04-30",
          "2013-05-31",
          "2013-06-30",
          "2013-07-31",
          "2013-08-31",
          "2013-09-30",
          "2013-10-31",
          "2013-11-30",
          "2013-12-31",
          "2014-01-31",
          "2014-02-28",
          "2014-03-31",
          "2014-04-30",
          "2014-05-31",
          "2014-06-30",
          "2014-07-31",
          "2014-08-31",
          "2014-09-30",
          "2014-10-31"
         ],
         "y": [
          24793,
          22649,
          28265,
          25867,
          29206,
          29929,
          32983,
          31346,
          28034,
          25831,
          27098,
          22688,
          26520,
          20808,
          25292,
          21496,
          24135,
          22959,
          26862,
          25225,
          21346,
          22765,
          23654,
          22119,
          23149,
          19587,
          24560,
          24417,
          22229,
          23583,
          23259,
          28755,
          25202,
          21933
         ]
        }
       ],
       "layout": {
        "showlegend": true,
        "title": "Monthly Sale Prediction for Item 5",
        "xaxis": {
         "title": "Date"
        },
        "yaxis": {
         "title": "Units Sold"
        }
       }
      },
      "text/html": [
       "<div id=\"494287c6-811a-44b4-a40c-00c009110f83\" style=\"height: 525px; width: 100%;\" class=\"plotly-graph-div\"></div><script type=\"text/javascript\">require([\"plotly\"], function(Plotly) { window.PLOTLYENV=window.PLOTLYENV || {};window.PLOTLYENV.BASE_URL=\"https://plot.ly\";Plotly.newPlot(\"494287c6-811a-44b4-a40c-00c009110f83\", [{\"type\": \"scatter\", \"x\": [\"2012-01-31\", \"2012-02-29\", \"2012-03-31\", \"2012-04-30\", \"2012-05-31\", \"2012-06-30\", \"2012-07-31\", \"2012-08-31\", \"2012-09-30\", \"2012-10-31\", \"2012-11-30\", \"2012-12-31\", \"2013-01-31\", \"2013-02-28\", \"2013-03-31\", \"2013-04-30\", \"2013-05-31\", \"2013-06-30\", \"2013-07-31\", \"2013-08-31\", \"2013-09-30\", \"2013-10-31\", \"2013-11-30\", \"2013-12-31\", \"2014-01-31\", \"2014-02-28\", \"2014-03-31\", \"2014-04-30\", \"2014-05-31\", \"2014-06-30\", \"2014-07-31\", \"2014-08-31\", \"2014-09-30\", \"2014-10-31\"], \"y\": [41022, 33291, 31425, 31621, 30912, 33524, 34831, 33314, 29219, 28854, 33517, 30788, 28009, 24361, 26471, 17766, 18912, 19081, 20400, 22513, 17445, 20804, 24997, 26716, 26007, 20328, 21793, 19338, 14857, 17073, 15774, 20028, 14611, 17060], \"mode\": \"markers\", \"name\": \"units sold\"}, {\"type\": \"scatter\", \"x\": [\"2012-01-31\", \"2012-02-29\", \"2012-03-31\", \"2012-04-30\", \"2012-05-31\", \"2012-06-30\", \"2012-07-31\", \"2012-08-31\", \"2012-09-30\", \"2012-10-31\", \"2012-11-30\", \"2012-12-31\", \"2013-01-31\", \"2013-02-28\", \"2013-03-31\", \"2013-04-30\", \"2013-05-31\", \"2013-06-30\", \"2013-07-31\", \"2013-08-31\", \"2013-09-30\", \"2013-10-31\", \"2013-11-30\", \"2013-12-31\", \"2014-01-31\", \"2014-02-28\", \"2014-03-31\", \"2014-04-30\", \"2014-05-31\", \"2014-06-30\", \"2014-07-31\", \"2014-08-31\", \"2014-09-30\", \"2014-10-31\"], \"y\": [24793, 22649, 28265, 25867, 29206, 29929, 32983, 31346, 28034, 25831, 27098, 22688, 26520, 20808, 25292, 21496, 24135, 22959, 26862, 25225, 21346, 22765, 23654, 22119, 23149, 19587, 24560, 24417, 22229, 23583, 23259, 28755, 25202, 21933], \"mode\": \"line\", \"name\": \"predict\"}], {\"title\": \"Monthly Sale Prediction for Item 5\", \"xaxis\": {\"title\": \"Date\"}, \"yaxis\": {\"title\": \"Units Sold\"}, \"showlegend\": true}, {\"showLink\": true, \"linkText\": \"Export to plot.ly\"})});</script>"
      ],
      "text/vnd.plotly.v1+html": [
       "<div id=\"494287c6-811a-44b4-a40c-00c009110f83\" style=\"height: 525px; width: 100%;\" class=\"plotly-graph-div\"></div><script type=\"text/javascript\">require([\"plotly\"], function(Plotly) { window.PLOTLYENV=window.PLOTLYENV || {};window.PLOTLYENV.BASE_URL=\"https://plot.ly\";Plotly.newPlot(\"494287c6-811a-44b4-a40c-00c009110f83\", [{\"type\": \"scatter\", \"x\": [\"2012-01-31\", \"2012-02-29\", \"2012-03-31\", \"2012-04-30\", \"2012-05-31\", \"2012-06-30\", \"2012-07-31\", \"2012-08-31\", \"2012-09-30\", \"2012-10-31\", \"2012-11-30\", \"2012-12-31\", \"2013-01-31\", \"2013-02-28\", \"2013-03-31\", \"2013-04-30\", \"2013-05-31\", \"2013-06-30\", \"2013-07-31\", \"2013-08-31\", \"2013-09-30\", \"2013-10-31\", \"2013-11-30\", \"2013-12-31\", \"2014-01-31\", \"2014-02-28\", \"2014-03-31\", \"2014-04-30\", \"2014-05-31\", \"2014-06-30\", \"2014-07-31\", \"2014-08-31\", \"2014-09-30\", \"2014-10-31\"], \"y\": [41022, 33291, 31425, 31621, 30912, 33524, 34831, 33314, 29219, 28854, 33517, 30788, 28009, 24361, 26471, 17766, 18912, 19081, 20400, 22513, 17445, 20804, 24997, 26716, 26007, 20328, 21793, 19338, 14857, 17073, 15774, 20028, 14611, 17060], \"mode\": \"markers\", \"name\": \"units sold\"}, {\"type\": \"scatter\", \"x\": [\"2012-01-31\", \"2012-02-29\", \"2012-03-31\", \"2012-04-30\", \"2012-05-31\", \"2012-06-30\", \"2012-07-31\", \"2012-08-31\", \"2012-09-30\", \"2012-10-31\", \"2012-11-30\", \"2012-12-31\", \"2013-01-31\", \"2013-02-28\", \"2013-03-31\", \"2013-04-30\", \"2013-05-31\", \"2013-06-30\", \"2013-07-31\", \"2013-08-31\", \"2013-09-30\", \"2013-10-31\", \"2013-11-30\", \"2013-12-31\", \"2014-01-31\", \"2014-02-28\", \"2014-03-31\", \"2014-04-30\", \"2014-05-31\", \"2014-06-30\", \"2014-07-31\", \"2014-08-31\", \"2014-09-30\", \"2014-10-31\"], \"y\": [24793, 22649, 28265, 25867, 29206, 29929, 32983, 31346, 28034, 25831, 27098, 22688, 26520, 20808, 25292, 21496, 24135, 22959, 26862, 25225, 21346, 22765, 23654, 22119, 23149, 19587, 24560, 24417, 22229, 23583, 23259, 28755, 25202, 21933], \"mode\": \"line\", \"name\": \"predict\"}], {\"title\": \"Monthly Sale Prediction for Item 5\", \"xaxis\": {\"title\": \"Date\"}, \"yaxis\": {\"title\": \"Units Sold\"}, \"showlegend\": true}, {\"showLink\": true, \"linkText\": \"Export to plot.ly\"})});</script>"
      ]
     },
     "metadata": {},
     "output_type": "display_data"
    }
   ],
   "source": [
    "create_chart(target_itemSales_5.resample(\"M\").sum(), 'Monthly Sale Prediction for Item 5')"
   ]
  },
  {
   "cell_type": "code",
   "execution_count": 16,
   "metadata": {},
   "outputs": [
    {
     "data": {
      "application/vnd.plotly.v1+json": {
       "data": [
        {
         "mode": "markers",
         "name": "units sold",
         "type": "scatter",
         "x": [
          "2012-12-31",
          "2013-12-31",
          "2014-12-31"
         ],
         "y": [
          427205,
          349937,
          227969
         ]
        },
        {
         "mode": "line",
         "name": "predict",
         "type": "scatter",
         "x": [
          "2012-12-31",
          "2013-12-31",
          "2014-12-31"
         ],
         "y": [
          394608,
          338046,
          284510
         ]
        }
       ],
       "layout": {
        "showlegend": true,
        "title": "Yearly Sale Prediction for Item 45",
        "xaxis": {
         "title": "Date"
        },
        "yaxis": {
         "title": "Units Sold"
        }
       }
      },
      "text/html": [
       "<div id=\"64744069-8ca0-4fc3-9a19-b4851ccc5e3a\" style=\"height: 525px; width: 100%;\" class=\"plotly-graph-div\"></div><script type=\"text/javascript\">require([\"plotly\"], function(Plotly) { window.PLOTLYENV=window.PLOTLYENV || {};window.PLOTLYENV.BASE_URL=\"https://plot.ly\";Plotly.newPlot(\"64744069-8ca0-4fc3-9a19-b4851ccc5e3a\", [{\"type\": \"scatter\", \"x\": [\"2012-12-31\", \"2013-12-31\", \"2014-12-31\"], \"y\": [427205, 349937, 227969], \"mode\": \"markers\", \"name\": \"units sold\"}, {\"type\": \"scatter\", \"x\": [\"2012-12-31\", \"2013-12-31\", \"2014-12-31\"], \"y\": [394608, 338046, 284510], \"mode\": \"line\", \"name\": \"predict\"}], {\"title\": \"Yearly Sale Prediction for Item 45\", \"xaxis\": {\"title\": \"Date\"}, \"yaxis\": {\"title\": \"Units Sold\"}, \"showlegend\": true}, {\"showLink\": true, \"linkText\": \"Export to plot.ly\"})});</script>"
      ],
      "text/vnd.plotly.v1+html": [
       "<div id=\"64744069-8ca0-4fc3-9a19-b4851ccc5e3a\" style=\"height: 525px; width: 100%;\" class=\"plotly-graph-div\"></div><script type=\"text/javascript\">require([\"plotly\"], function(Plotly) { window.PLOTLYENV=window.PLOTLYENV || {};window.PLOTLYENV.BASE_URL=\"https://plot.ly\";Plotly.newPlot(\"64744069-8ca0-4fc3-9a19-b4851ccc5e3a\", [{\"type\": \"scatter\", \"x\": [\"2012-12-31\", \"2013-12-31\", \"2014-12-31\"], \"y\": [427205, 349937, 227969], \"mode\": \"markers\", \"name\": \"units sold\"}, {\"type\": \"scatter\", \"x\": [\"2012-12-31\", \"2013-12-31\", \"2014-12-31\"], \"y\": [394608, 338046, 284510], \"mode\": \"line\", \"name\": \"predict\"}], {\"title\": \"Yearly Sale Prediction for Item 45\", \"xaxis\": {\"title\": \"Date\"}, \"yaxis\": {\"title\": \"Units Sold\"}, \"showlegend\": true}, {\"showLink\": true, \"linkText\": \"Export to plot.ly\"})});</script>"
      ]
     },
     "metadata": {},
     "output_type": "display_data"
    }
   ],
   "source": [
    "create_chart(target_itemSales_45.resample(\"A\").sum(), 'Yearly Sale Prediction for Item 45')"
   ]
  },
  {
   "cell_type": "code",
   "execution_count": 17,
   "metadata": {},
   "outputs": [
    {
     "data": {
      "application/vnd.plotly.v1+json": {
       "data": [
        {
         "mode": "markers",
         "name": "units sold",
         "type": "scatter",
         "x": [
          "2012-12-31",
          "2013-12-31",
          "2014-12-31"
         ],
         "y": [
          380511,
          310089,
          226015
         ]
        },
        {
         "mode": "line",
         "name": "predict",
         "type": "scatter",
         "x": [
          "2012-12-31",
          "2013-12-31",
          "2014-12-31"
         ],
         "y": [
          354774,
          302994,
          245338
         ]
        }
       ],
       "layout": {
        "showlegend": true,
        "title": "Yearly Sale Prediction for Item 9",
        "xaxis": {
         "title": "Date"
        },
        "yaxis": {
         "title": "Units Sold"
        }
       }
      },
      "text/html": [
       "<div id=\"136f631c-828a-4ceb-8083-68b963892187\" style=\"height: 525px; width: 100%;\" class=\"plotly-graph-div\"></div><script type=\"text/javascript\">require([\"plotly\"], function(Plotly) { window.PLOTLYENV=window.PLOTLYENV || {};window.PLOTLYENV.BASE_URL=\"https://plot.ly\";Plotly.newPlot(\"136f631c-828a-4ceb-8083-68b963892187\", [{\"type\": \"scatter\", \"x\": [\"2012-12-31\", \"2013-12-31\", \"2014-12-31\"], \"y\": [380511, 310089, 226015], \"mode\": \"markers\", \"name\": \"units sold\"}, {\"type\": \"scatter\", \"x\": [\"2012-12-31\", \"2013-12-31\", \"2014-12-31\"], \"y\": [354774, 302994, 245338], \"mode\": \"line\", \"name\": \"predict\"}], {\"title\": \"Yearly Sale Prediction for Item 9\", \"xaxis\": {\"title\": \"Date\"}, \"yaxis\": {\"title\": \"Units Sold\"}, \"showlegend\": true}, {\"showLink\": true, \"linkText\": \"Export to plot.ly\"})});</script>"
      ],
      "text/vnd.plotly.v1+html": [
       "<div id=\"136f631c-828a-4ceb-8083-68b963892187\" style=\"height: 525px; width: 100%;\" class=\"plotly-graph-div\"></div><script type=\"text/javascript\">require([\"plotly\"], function(Plotly) { window.PLOTLYENV=window.PLOTLYENV || {};window.PLOTLYENV.BASE_URL=\"https://plot.ly\";Plotly.newPlot(\"136f631c-828a-4ceb-8083-68b963892187\", [{\"type\": \"scatter\", \"x\": [\"2012-12-31\", \"2013-12-31\", \"2014-12-31\"], \"y\": [380511, 310089, 226015], \"mode\": \"markers\", \"name\": \"units sold\"}, {\"type\": \"scatter\", \"x\": [\"2012-12-31\", \"2013-12-31\", \"2014-12-31\"], \"y\": [354774, 302994, 245338], \"mode\": \"line\", \"name\": \"predict\"}], {\"title\": \"Yearly Sale Prediction for Item 9\", \"xaxis\": {\"title\": \"Date\"}, \"yaxis\": {\"title\": \"Units Sold\"}, \"showlegend\": true}, {\"showLink\": true, \"linkText\": \"Export to plot.ly\"})});</script>"
      ]
     },
     "metadata": {},
     "output_type": "display_data"
    }
   ],
   "source": [
    "create_chart(target_itemSales_9.resample(\"A\").sum(), 'Yearly Sale Prediction for Item 9')"
   ]
  },
  {
   "cell_type": "code",
   "execution_count": 18,
   "metadata": {},
   "outputs": [
    {
     "data": {
      "application/vnd.plotly.v1+json": {
       "data": [
        {
         "mode": "markers",
         "name": "units sold",
         "type": "scatter",
         "x": [
          "2012-12-31",
          "2013-12-31",
          "2014-12-31"
         ],
         "y": [
          392318,
          267475,
          186869
         ]
        },
        {
         "mode": "line",
         "name": "predict",
         "type": "scatter",
         "x": [
          "2012-12-31",
          "2013-12-31",
          "2014-12-31"
         ],
         "y": [
          328689,
          283181,
          236674
         ]
        }
       ],
       "layout": {
        "showlegend": true,
        "title": "Yearly Sale Prediction for Item 5",
        "xaxis": {
         "title": "Date"
        },
        "yaxis": {
         "title": "Units Sold"
        }
       }
      },
      "text/html": [
       "<div id=\"6760e5e0-8c79-4b4a-825a-a0ac00627385\" style=\"height: 525px; width: 100%;\" class=\"plotly-graph-div\"></div><script type=\"text/javascript\">require([\"plotly\"], function(Plotly) { window.PLOTLYENV=window.PLOTLYENV || {};window.PLOTLYENV.BASE_URL=\"https://plot.ly\";Plotly.newPlot(\"6760e5e0-8c79-4b4a-825a-a0ac00627385\", [{\"type\": \"scatter\", \"x\": [\"2012-12-31\", \"2013-12-31\", \"2014-12-31\"], \"y\": [392318, 267475, 186869], \"mode\": \"markers\", \"name\": \"units sold\"}, {\"type\": \"scatter\", \"x\": [\"2012-12-31\", \"2013-12-31\", \"2014-12-31\"], \"y\": [328689, 283181, 236674], \"mode\": \"line\", \"name\": \"predict\"}], {\"title\": \"Yearly Sale Prediction for Item 5\", \"xaxis\": {\"title\": \"Date\"}, \"yaxis\": {\"title\": \"Units Sold\"}, \"showlegend\": true}, {\"showLink\": true, \"linkText\": \"Export to plot.ly\"})});</script>"
      ],
      "text/vnd.plotly.v1+html": [
       "<div id=\"6760e5e0-8c79-4b4a-825a-a0ac00627385\" style=\"height: 525px; width: 100%;\" class=\"plotly-graph-div\"></div><script type=\"text/javascript\">require([\"plotly\"], function(Plotly) { window.PLOTLYENV=window.PLOTLYENV || {};window.PLOTLYENV.BASE_URL=\"https://plot.ly\";Plotly.newPlot(\"6760e5e0-8c79-4b4a-825a-a0ac00627385\", [{\"type\": \"scatter\", \"x\": [\"2012-12-31\", \"2013-12-31\", \"2014-12-31\"], \"y\": [392318, 267475, 186869], \"mode\": \"markers\", \"name\": \"units sold\"}, {\"type\": \"scatter\", \"x\": [\"2012-12-31\", \"2013-12-31\", \"2014-12-31\"], \"y\": [328689, 283181, 236674], \"mode\": \"line\", \"name\": \"predict\"}], {\"title\": \"Yearly Sale Prediction for Item 5\", \"xaxis\": {\"title\": \"Date\"}, \"yaxis\": {\"title\": \"Units Sold\"}, \"showlegend\": true}, {\"showLink\": true, \"linkText\": \"Export to plot.ly\"})});</script>"
      ]
     },
     "metadata": {},
     "output_type": "display_data"
    }
   ],
   "source": [
    "create_chart(target_itemSales_5.resample(\"A\").sum(), 'Yearly Sale Prediction for Item 5')"
   ]
  }
 ],
 "metadata": {
  "kernelspec": {
   "display_name": "Python 3",
   "language": "python",
   "name": "python3"
  },
  "language_info": {
   "codemirror_mode": {
    "name": "ipython",
    "version": 3
   },
   "file_extension": ".py",
   "mimetype": "text/x-python",
   "name": "python",
   "nbconvert_exporter": "python",
   "pygments_lexer": "ipython3",
   "version": "3.6.2"
  }
 },
 "nbformat": 4,
 "nbformat_minor": 2
}
